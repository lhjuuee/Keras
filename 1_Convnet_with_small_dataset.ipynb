{
 "cells": [
  {
   "cell_type": "markdown",
   "metadata": {},
   "source": [
    "# Convnet with small dataset\n",
    "\n",
    "That we need large dataset for high dimensional data, like image, is well known. but it is quite common to do some projects with small \n",
    "\n",
    "dataset in practice because getting large dataset is quite expensive and sometimes impossible. In workflow for this, we usually take \n",
    "\n",
    "steps to build small networks and small networks with data augmentation, use pretrained networks, which is powerful in CNN because of \n",
    "\n",
    "its feature (parameter-share) and lastly, pretrained networks with fine tune. Let's do these 4 things step by step.\n",
    "\n",
    "## 1. Data\n"
   ]
  },
  {
   "cell_type": "code",
   "execution_count": 1,
   "metadata": {},
   "outputs": [],
   "source": [
    "import os, shutil"
   ]
  },
  {
   "cell_type": "code",
   "execution_count": 2,
   "metadata": {},
   "outputs": [],
   "source": [
    "original_dataset_dir = ('C:/python/dogs-vs-cats/train')\n",
    "base_dir = ('C:/python/dogs-vs-cats_small')\n",
    "\n",
    "os.mkdir(base_dir) # Create file\n",
    "\n",
    "# Directory for each dataset\n",
    "\n",
    "train_dir = os.path.join(base_dir, 'train')\n",
    "os.mkdir(train_dir)\n",
    "dev_dir = os.path.join(base_dir,'dev')\n",
    "os.mkdir(dev_dir)\n",
    "test_dir = os.path.join(base_dir, 'test')\n",
    "os.mkdir(test_dir)\n",
    "\n",
    "# Directory for dogs and cats\n",
    "\n",
    "train_cats_dir = os.path.join(train_dir, 'cats')\n",
    "os.mkdir(train_cats_dir)\n",
    "train_dogs_dir = os.path.join(train_dir, 'dogs')\n",
    "os.mkdir(train_dogs_dir)\n",
    "\n",
    "dev_cats_dir = os.path.join(dev_dir, 'cats')\n",
    "os.mkdir(dev_cats_dir)\n",
    "dev_dogs_dir = os.path.join(dev_dir, 'dogs')\n",
    "os.mkdir(dev_dogs_dir)\n",
    "\n",
    "test_cats_dir = os.path.join(test_dir, 'cats')\n",
    "os.mkdir(test_cats_dir)\n",
    "test_dogs_dir = os.path.join(test_dir, 'dogs')\n",
    "os.mkdir(test_dogs_dir)\n",
    "\n",
    "# Copy first 1000 jpg files at train - cat\n",
    "fnames = ['cat.{}.jpg'.format(i) for i in range(1000)]\n",
    "for fname in fnames:\n",
    "    src = os.path.join(original_dataset_dir, fname)\n",
    "    dst = os.path.join(train_cats_dir, fname)\n",
    "    shutil.copyfile(src,dst)\n",
    "\n",
    "# 1000 ~ 1500 at dev\n",
    "fnames = ['cat.{}.jpg'.format(i) for i in range(1000, 1500)]\n",
    "for fname in fnames:\n",
    "    src = os.path.join(original_dataset_dir, fname)\n",
    "    dst = os.path.join(dev_cats_dir, fname)\n",
    "    shutil.copyfile(src,dst)\n",
    "\n",
    "# 1500 ~ 2000 at test\n",
    "fnames = ['cat.{}.jpg'.format(i) for i in range(1500, 2000)]\n",
    "for fname in fnames:\n",
    "    src = os.path.join(original_dataset_dir, fname)\n",
    "    dst = os.path.join(test_cats_dir, fname)\n",
    "    shutil.copyfile(src,dst)\n",
    "\n",
    "# first 1000 - dog\n",
    "fnames = ['dog.{}.jpg'.format(i) for i in range(1000)]\n",
    "for fname in fnames:\n",
    "    src = os.path.join(original_dataset_dir, fname)\n",
    "    dst = os.path.join(train_dogs_dir, fname)\n",
    "    shutil.copyfile(src,dst)\n",
    "    \n",
    "# 1000 ~ 1500 at dev\n",
    "fnames = ['dog.{}.jpg'.format(i) for i in range(1000, 1500)]\n",
    "for fname in fnames:\n",
    "    src = os.path.join(original_dataset_dir, fname)\n",
    "    dst = os.path.join(dev_dogs_dir, fname)\n",
    "    shutil.copyfile(src,dst)\n",
    "    \n",
    "# 1500 ~ 2000 at test\n",
    "fnames = ['dog.{}.jpg'.format(i) for i in range(1500, 2000)]\n",
    "for fname in fnames:\n",
    "    src = os.path.join(original_dataset_dir, fname)\n",
    "    dst = os.path.join(test_dogs_dir, fname)\n",
    "    shutil.copyfile(src,dst)"
   ]
  },
  {
   "cell_type": "markdown",
   "metadata": {},
   "source": [
    "## 2. Model 1\n",
    "### 2.1 Small networks\n",
    "##### Build"
   ]
  },
  {
   "cell_type": "code",
   "execution_count": 3,
   "metadata": {},
   "outputs": [
    {
     "name": "stderr",
     "output_type": "stream",
     "text": [
      "Using TensorFlow backend.\n"
     ]
    }
   ],
   "source": [
    "from keras import models\n",
    "from keras import layers\n",
    "from keras.layers import Dense, Activation, BatchNormalization, Dropout\n",
    "\n",
    "model = models.Sequential()\n",
    "\n",
    "model.add(layers.Conv2D(32, (3, 3), input_shape=(150, 150, 3)))\n",
    "model.add(Activation('relu'))\n",
    "model.add(layers.MaxPooling2D((2, 2)))\n",
    "\n",
    "model.add(layers.Conv2D(64, (3, 3)))\n",
    "model.add(Activation('relu'))\n",
    "model.add(layers.MaxPooling2D((2, 2)))\n",
    "\n",
    "model.add(layers.Conv2D(128, (3, 3)))\n",
    "model.add(Activation('relu'))\n",
    "model.add(layers.MaxPooling2D((2, 2)))\n",
    "\n",
    "model.add(layers.Conv2D(128, (3, 3)))\n",
    "model.add(Activation('relu'))\n",
    "model.add(layers.MaxPooling2D((2, 2)))\n",
    "\n",
    "model.add(layers.Flatten())\n",
    "model.add(layers.Dense(512))\n",
    "model.add(Activation('relu'))\n",
    "\n",
    "model.add(layers.Dense(1, activation='sigmoid'))"
   ]
  },
  {
   "cell_type": "code",
   "execution_count": 4,
   "metadata": {},
   "outputs": [
    {
     "name": "stdout",
     "output_type": "stream",
     "text": [
      "_________________________________________________________________\n",
      "Layer (type)                 Output Shape              Param #   \n",
      "=================================================================\n",
      "conv2d_1 (Conv2D)            (None, 148, 148, 32)      896       \n",
      "_________________________________________________________________\n",
      "activation_1 (Activation)    (None, 148, 148, 32)      0         \n",
      "_________________________________________________________________\n",
      "max_pooling2d_1 (MaxPooling2 (None, 74, 74, 32)        0         \n",
      "_________________________________________________________________\n",
      "conv2d_2 (Conv2D)            (None, 72, 72, 64)        18496     \n",
      "_________________________________________________________________\n",
      "activation_2 (Activation)    (None, 72, 72, 64)        0         \n",
      "_________________________________________________________________\n",
      "max_pooling2d_2 (MaxPooling2 (None, 36, 36, 64)        0         \n",
      "_________________________________________________________________\n",
      "conv2d_3 (Conv2D)            (None, 34, 34, 128)       73856     \n",
      "_________________________________________________________________\n",
      "activation_3 (Activation)    (None, 34, 34, 128)       0         \n",
      "_________________________________________________________________\n",
      "max_pooling2d_3 (MaxPooling2 (None, 17, 17, 128)       0         \n",
      "_________________________________________________________________\n",
      "conv2d_4 (Conv2D)            (None, 15, 15, 128)       147584    \n",
      "_________________________________________________________________\n",
      "activation_4 (Activation)    (None, 15, 15, 128)       0         \n",
      "_________________________________________________________________\n",
      "max_pooling2d_4 (MaxPooling2 (None, 7, 7, 128)         0         \n",
      "_________________________________________________________________\n",
      "flatten_1 (Flatten)          (None, 6272)              0         \n",
      "_________________________________________________________________\n",
      "dense_1 (Dense)              (None, 512)               3211776   \n",
      "_________________________________________________________________\n",
      "activation_5 (Activation)    (None, 512)               0         \n",
      "_________________________________________________________________\n",
      "dense_2 (Dense)              (None, 1)                 513       \n",
      "=================================================================\n",
      "Total params: 3,453,121\n",
      "Trainable params: 3,453,121\n",
      "Non-trainable params: 0\n",
      "_________________________________________________________________\n"
     ]
    }
   ],
   "source": [
    "model.summary()"
   ]
  },
  {
   "cell_type": "markdown",
   "metadata": {},
   "source": [
    "##### Compile"
   ]
  },
  {
   "cell_type": "code",
   "execution_count": 5,
   "metadata": {},
   "outputs": [],
   "source": [
    "from keras import optimizers\n",
    "\n",
    "model.compile(loss='binary_crossentropy',\n",
    "               optimizer=optimizers.RMSprop(lr=1e-4),\n",
    "               metrics=['acc'])"
   ]
  },
  {
   "cell_type": "markdown",
   "metadata": {},
   "source": [
    "### 2.2 Data preprocessing\n",
    "\n",
    "In image classifier process, we need to preprocess data. We have jpeg files, hence,\n",
    "\n",
    "- Read files\n",
    "- Transform jpeg to RGB pixel value\n",
    "- Transform to tensor\n",
    "- Divide with 255 "
   ]
  },
  {
   "cell_type": "code",
   "execution_count": 6,
   "metadata": {},
   "outputs": [
    {
     "name": "stdout",
     "output_type": "stream",
     "text": [
      "Found 2000 images belonging to 2 classes.\n",
      "Found 1000 images belonging to 2 classes.\n"
     ]
    }
   ],
   "source": [
    "from keras.preprocessing.image import ImageDataGenerator\n",
    "\n",
    "train_datagen = ImageDataGenerator(rescale=1./255)\n",
    "test_datagen = ImageDataGenerator(rescale=1./255)\n",
    "\n",
    "train_generator = train_datagen.flow_from_directory(train_dir, target_size=(150, 150), batch_size=20, class_mode='binary')\n",
    "dev_generator = test_datagen.flow_from_directory(dev_dir, target_size=(150, 150), batch_size=20, class_mode='binary')"
   ]
  },
  {
   "cell_type": "markdown",
   "metadata": {},
   "source": [
    "Generator makes batch infinitely. We need to use break at somewhere."
   ]
  },
  {
   "cell_type": "code",
   "execution_count": 7,
   "metadata": {},
   "outputs": [
    {
     "name": "stdout",
     "output_type": "stream",
     "text": [
      "(20, 150, 150, 3)\n",
      "(20,)\n"
     ]
    }
   ],
   "source": [
    "for data_batch, labels_batch in train_generator:\n",
    "    print(data_batch.shape)\n",
    "    print(labels_batch.shape)\n",
    "    break"
   ]
  },
  {
   "cell_type": "markdown",
   "metadata": {},
   "source": [
    "### 2.3 Training\n",
    "\n",
    "By using fit_generator other than fit, we can use data genorated by genorator we defined.\n",
    "\n",
    "And importantly, because data is created infinitely, we need to set steps_per_epoch to define one epoch for model.\n",
    "\n",
    "We have 2000 samples with 20 batch, hence, 100 steps per epoch.\n",
    "\n",
    "And like train set, we need to define steps for validation set.\n",
    "\n",
    "We have 1000 samples with 20 batch, hence, 50 steps.\n"
   ]
  },
  {
   "cell_type": "code",
   "execution_count": 8,
   "metadata": {},
   "outputs": [
    {
     "name": "stdout",
     "output_type": "stream",
     "text": [
      "Epoch 1/30\n",
      "100/100 [==============================] - 271s 3s/step - loss: 0.6897 - acc: 0.5290 - val_loss: 0.6733 - val_acc: 0.5780\n",
      "Epoch 2/30\n",
      "100/100 [==============================] - 200s 2s/step - loss: 0.6589 - acc: 0.6050 - val_loss: 0.6409 - val_acc: 0.6270\n",
      "Epoch 3/30\n",
      "100/100 [==============================] - 197s 2s/step - loss: 0.6061 - acc: 0.6740 - val_loss: 0.6063 - val_acc: 0.6710\n",
      "Epoch 4/30\n",
      "100/100 [==============================] - 191s 2s/step - loss: 0.5637 - acc: 0.7110 - val_loss: 0.6014 - val_acc: 0.6790\n",
      "Epoch 5/30\n",
      "100/100 [==============================] - 197s 2s/step - loss: 0.5386 - acc: 0.7325 - val_loss: 0.5885 - val_acc: 0.6910\n",
      "Epoch 6/30\n",
      "100/100 [==============================] - 193s 2s/step - loss: 0.5166 - acc: 0.7340 - val_loss: 0.5690 - val_acc: 0.6900\n",
      "Epoch 7/30\n",
      "100/100 [==============================] - 192s 2s/step - loss: 0.4802 - acc: 0.7710 - val_loss: 0.5607 - val_acc: 0.7100\n",
      "Epoch 8/30\n",
      "100/100 [==============================] - 194s 2s/step - loss: 0.4587 - acc: 0.7780 - val_loss: 0.5648 - val_acc: 0.7040\n",
      "Epoch 9/30\n",
      "100/100 [==============================] - 196s 2s/step - loss: 0.4341 - acc: 0.7965 - val_loss: 0.5525 - val_acc: 0.7200\n",
      "Epoch 10/30\n",
      "100/100 [==============================] - 189s 2s/step - loss: 0.4046 - acc: 0.8105 - val_loss: 0.5859 - val_acc: 0.7040\n",
      "Epoch 11/30\n",
      "100/100 [==============================] - 144s 1s/step - loss: 0.3651 - acc: 0.8370 - val_loss: 0.5649 - val_acc: 0.7200\n",
      "Epoch 12/30\n",
      "100/100 [==============================] - 144s 1s/step - loss: 0.3574 - acc: 0.8530 - val_loss: 0.5677 - val_acc: 0.7200\n",
      "Epoch 13/30\n",
      "100/100 [==============================] - 144s 1s/step - loss: 0.3212 - acc: 0.8660 - val_loss: 0.5835 - val_acc: 0.7290\n",
      "Epoch 14/30\n",
      "100/100 [==============================] - 144s 1s/step - loss: 0.3003 - acc: 0.8725 - val_loss: 0.6368 - val_acc: 0.7060\n",
      "Epoch 15/30\n",
      "100/100 [==============================] - 143s 1s/step - loss: 0.2747 - acc: 0.8915 - val_loss: 0.5547 - val_acc: 0.7330\n",
      "Epoch 16/30\n",
      "100/100 [==============================] - 145s 1s/step - loss: 0.2563 - acc: 0.8955 - val_loss: 0.6148 - val_acc: 0.7260\n",
      "Epoch 17/30\n",
      "100/100 [==============================] - 143s 1s/step - loss: 0.2316 - acc: 0.9070 - val_loss: 0.6103 - val_acc: 0.7380\n",
      "Epoch 18/30\n",
      "100/100 [==============================] - 142s 1s/step - loss: 0.2084 - acc: 0.9150 - val_loss: 0.6931 - val_acc: 0.7150\n",
      "Epoch 19/30\n",
      "100/100 [==============================] - 143s 1s/step - loss: 0.1889 - acc: 0.9305 - val_loss: 0.7059 - val_acc: 0.7160\n",
      "Epoch 20/30\n",
      "100/100 [==============================] - 143s 1s/step - loss: 0.1648 - acc: 0.9415 - val_loss: 0.8039 - val_acc: 0.7030\n",
      "Epoch 21/30\n",
      "100/100 [==============================] - 143s 1s/step - loss: 0.1420 - acc: 0.9510 - val_loss: 0.8426 - val_acc: 0.7020\n",
      "Epoch 22/30\n",
      "100/100 [==============================] - 230s 2s/step - loss: 0.1238 - acc: 0.9600 - val_loss: 0.7507 - val_acc: 0.7080\n",
      "Epoch 23/30\n",
      "100/100 [==============================] - 200s 2s/step - loss: 0.1100 - acc: 0.9610 - val_loss: 1.0111 - val_acc: 0.6900\n",
      "Epoch 24/30\n",
      "100/100 [==============================] - 192s 2s/step - loss: 0.0911 - acc: 0.9745 - val_loss: 0.8626 - val_acc: 0.7200\n",
      "Epoch 25/30\n",
      "100/100 [==============================] - 191s 2s/step - loss: 0.0775 - acc: 0.9730 - val_loss: 1.0006 - val_acc: 0.6950\n",
      "Epoch 26/30\n",
      "100/100 [==============================] - 227s 2s/step - loss: 0.0673 - acc: 0.9800 - val_loss: 0.9122 - val_acc: 0.7250\n",
      "Epoch 27/30\n",
      "100/100 [==============================] - 229s 2s/step - loss: 0.0604 - acc: 0.9810 - val_loss: 0.9112 - val_acc: 0.7070\n",
      "Epoch 28/30\n",
      "100/100 [==============================] - 211s 2s/step - loss: 0.0453 - acc: 0.9905 - val_loss: 0.9588 - val_acc: 0.7040\n",
      "Epoch 29/30\n",
      "100/100 [==============================] - 239s 2s/step - loss: 0.0357 - acc: 0.9935 - val_loss: 1.1009 - val_acc: 0.7040\n",
      "Epoch 30/30\n",
      "100/100 [==============================] - 158s 2s/step - loss: 0.0385 - acc: 0.9905 - val_loss: 1.0381 - val_acc: 0.7160\n"
     ]
    }
   ],
   "source": [
    "history =  model.fit_generator(train_generator,\n",
    "                               steps_per_epoch=100,\n",
    "                               epochs=30,\n",
    "                               validation_data=dev_generator,\n",
    "                               validation_steps=50)"
   ]
  },
  {
   "cell_type": "markdown",
   "metadata": {},
   "source": [
    "### 2.4 Evaluate with graph"
   ]
  },
  {
   "cell_type": "code",
   "execution_count": 20,
   "metadata": {},
   "outputs": [],
   "source": [
    "import matplotlib.pyplot as plt\n",
    "import seaborn as sns\n",
    "import pandas as pd, numpy as np\n",
    "sns.set(style=\"darkgrid\")"
   ]
  },
  {
   "cell_type": "code",
   "execution_count": 34,
   "metadata": {},
   "outputs": [],
   "source": [
    "epochs = range(1, len(acc) + 1)\n",
    "acc = history.history['acc']\n",
    "dev_acc = history.history['val_acc']\n",
    "loss = history.history['loss']\n",
    "dev_loss = history.history['val_loss']"
   ]
  },
  {
   "cell_type": "code",
   "execution_count": 35,
   "metadata": {},
   "outputs": [],
   "source": [
    "model_1_result = pd.DataFrame({'epochs': epochs, 'acc': acc, 'dev_acc': dev_acc, 'loss': loss, 'dev_loss':dev_loss})"
   ]
  },
  {
   "cell_type": "code",
   "execution_count": 50,
   "metadata": {},
   "outputs": [
    {
     "data": {
      "text/plain": [
       "<Figure size 432x288 with 0 Axes>"
      ]
     },
     "execution_count": 50,
     "metadata": {},
     "output_type": "execute_result"
    },
    {
     "data": {
      "image/png": "[encoded data removed]",
      "text/plain": [
       "<Figure size 432x288 with 1 Axes>"
      ]
     },
     "metadata": {},
     "output_type": "display_data"
    },
    {
     "data": {
      "text/plain": [
       "<Figure size 432x288 with 0 Axes>"
      ]
     },
     "metadata": {},
     "output_type": "display_data"
    }
   ],
   "source": [
    "plt.plot(epochs, acc, 'b', label='Training_acc')\n",
    "plt.plot(epochs, dev_acc, 'darkorange', label='Dev_acc')\n",
    "plt.title(\"Training and Dev accuracy\")\n",
    "plt.xlabel(\"Epoch\")\n",
    "plt.ylabel(\"Accuracy\")\n",
    "plt.legend()\n",
    "plt.figure()"
   ]
  },
  {
   "cell_type": "code",
   "execution_count": 52,
   "metadata": {},
   "outputs": [
    {
     "data": {
      "text/plain": [
       "<matplotlib.legend.Legend at 0x28610324be0>"
      ]
     },
     "execution_count": 52,
     "metadata": {},
     "output_type": "execute_result"
    },
    {
     "data": {
      "image/png": "[encoded data removed]",
      "text/plain": [
       "<Figure size 432x288 with 1 Axes>"
      ]
     },
     "metadata": {},
     "output_type": "display_data"
    }
   ],
   "source": [
    "plt.plot(epochs, loss, 'b', label='Training_loss')\n",
    "plt.plot(epochs, dev_loss, 'darkorange', label='Dev_loss')\n",
    "plt.title(\"Training and Dev loss\")\n",
    "plt.xlabel(\"Epoch\")\n",
    "plt.ylabel(\"Loss\")\n",
    "plt.legend()"
   ]
  }
 ],
 "metadata": {
  "kernelspec": {
   "display_name": "Python 3",
   "language": "python",
   "name": "python3"
  },
  "language_info": {
   "codemirror_mode": {
    "name": "ipython",
    "version": 3
   },
   "file_extension": ".py",
   "mimetype": "text/x-python",
   "name": "python",
   "nbconvert_exporter": "python",
   "pygments_lexer": "ipython3",
   "version": "3.6.7"
  }
 },
 "nbformat": 4,
 "nbformat_minor": 2
}
