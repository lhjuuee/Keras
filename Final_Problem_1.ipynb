{
 "cells": [
  {
   "cell_type": "markdown",
   "metadata": {},
   "source": [
    "# 정보시스템설계 및 실습 기말과제\n",
    "##### 학번: 201320475\n",
    "##### 이름: 이혁주\n",
    "##### 학과: 산업공학과\n",
    "## Problem 1."
   ]
  },
  {
   "cell_type": "code",
   "execution_count": 1,
   "metadata": {},
   "outputs": [
    {
     "name": "stderr",
     "output_type": "stream",
     "text": [
      "Using TensorFlow backend.\n"
     ]
    }
   ],
   "source": [
    "import numpy as np\n",
    "import pandas as pd\n",
    "from keras.layers import Dense, LSTM, Dropout, SimpleRNN\n",
    "from keras.models import Sequential\n",
    "from sklearn.preprocessing import LabelBinarizer\n",
    "import matplotlib.pyplot as plt\n",
    "import tensorflow as tf\n",
    "from keras import optimizers\n",
    "from keras.callbacks import EarlyStopping, ModelCheckpoint\n",
    "import keras\n",
    "\n",
    "from sklearn.model_selection import train_test_split\n",
    "%matplotlib inline\n",
    "es = EarlyStopping(monitor='val_loss', mode='min', verbose=1, patience=50)"
   ]
  },
  {
   "cell_type": "code",
   "execution_count": 2,
   "metadata": {},
   "outputs": [],
   "source": [
    "class Analysis():\n",
    "    def __init__(self):\n",
    "        np.random.seed(42)\n",
    "        tf.set_random_seed(42)\n",
    "        \n",
    "        #데이터 셋 생성\n",
    "    def create_dataset(self, num = 5000):\n",
    "        if num % 2 == 1:\n",
    "            return None\n",
    "        data_len = int(num / 2)\n",
    "        return np.random.random(num).reshape(data_len , 2)\n",
    "        # 데이터 플로팅\n",
    "    def plot_data(self, data):\n",
    "        if len(data.shape) != 2 :\n",
    "            print('데이터를 확인해주세요.')\n",
    "            return\n",
    "        plt.figure(figsize=(7, 7))\n",
    "        plt.plot(data[:, 0], data[:, 1], 'b.')\n",
    "        plt.xlabel('x1')\n",
    "        plt.ylabel('x2')\n",
    "        plt.grid(True)\n",
    "        plt.show()\n",
    "        \n",
    "        # 데이터 분류\n",
    "    def classify_data(self, data):\n",
    "        target = []\n",
    "        for i in range(len(data)):\n",
    "            if data[i,0] < 0.5 and data[i,1] < 0.5:\n",
    "                target.append('type1')\n",
    "            elif data[i,0] >= 0.5 and data[i,1] < 0.5:\n",
    "                target.append('type2')\n",
    "            elif data[i,0] < 0.5 and data[i,1] >= 0.5:\n",
    "                target.append('type3')\n",
    "            elif data[i,0] >= 0.5 and data[i,0]<0.75 and data[i,1] >= 0.5 and data[i,1]<0.75:\n",
    "                target.append('type4')\n",
    "            elif data[i,0] >= 0.5 and data[i,0]<0.75 and data[i,1] >= 0.75 :\n",
    "                target.append('type5')      \n",
    "            elif data[i,0] >= 0.75  and data[i,1] >= 0.5 and data[i,1]<0.75:\n",
    "                target.append('type6')\n",
    "            elif data[i,0] >= 0.75 and  data[i,1] >= 0.75 :\n",
    "                target.append('type7')\n",
    "        return np.array(target)\n",
    "    \n",
    "        # 데이터 인코딩\n",
    "    def encode_data(self, target):\n",
    "        encoder = LabelBinarizer()\n",
    "        encoded_target = encoder.fit_transform(target)\n",
    "        return encoded_target\n",
    "        \n",
    "        # ratio를 이용한 train test 데이터 구분\n",
    "    def get_train_And_test(self, data, target, ratio = 0.8):\n",
    "        if ratio > 1 :\n",
    "            print('파라미터를 확인해주세요')\n",
    "            return \n",
    "        df_data = pd.DataFrame(data)\n",
    "        df_encoded_target = pd.DataFrame(encoded_target)\n",
    "        df_target = pd.DataFrame(target)\n",
    "        df = pd.concat([df_data, df_encoded_target, df_target], axis=1)\n",
    "        df.columns = ['x', 'y', '1', '2', '3', '4', '5', '6', '7', 'target']\n",
    "        \n",
    "        df_type1 = df[df['target'] == 'type1']\n",
    "        df_type2 = df[df['target'] == 'type2']\n",
    "        df_type3 = df[df['target'] == 'type3']\n",
    "        df_type4 = df[df['target'] == 'type4']\n",
    "        df_type5 = df[df['target'] == 'type5']\n",
    "        df_type6 = df[df['target'] == 'type6']\n",
    "        df_type7 = df[df['target'] == 'type7']\n",
    "        \n",
    "        criteria1 = int((len(df_type1) * ratio))\n",
    "        train_type1 = df_type1[0 : criteria1]\n",
    "        test_type1 =  df_type1[criteria1 : ]\n",
    "        \n",
    "        criteria2 = int((len(df_type2) * ratio))\n",
    "        train_type2 = df_type2[0 : criteria2]\n",
    "        test_type2 =  df_type2[criteria2 : ]\n",
    "        \n",
    "        criteria3 = int((len(df_type3) * ratio))\n",
    "        train_type3 = df_type3[0 : criteria3]\n",
    "        test_type3 =  df_type3[criteria3 : ]\n",
    "        \n",
    "        criteria4 = int((len(df_type4) * ratio))\n",
    "        train_type4 = df_type4[0 : criteria4]\n",
    "        test_type4 =  df_type4[criteria4 : ]\n",
    "        \n",
    "        criteria5 = int((len(df_type5) * ratio))\n",
    "        train_type5 = df_type5[0 : criteria5]\n",
    "        test_type5 =  df_type5[criteria5 : ]\n",
    "        \n",
    "        criteria6 = int((len(df_type6) * ratio))\n",
    "        train_type6 = df_type6[0 : criteria6]\n",
    "        test_type6 =  df_type6[criteria6 : ]\n",
    "        \n",
    "        criteria7 = int((len(df_type7) * ratio))\n",
    "        train_type7 = df_type7[0 : criteria7]\n",
    "        test_type7 =  df_type7[criteria7 : ]\n",
    "        \n",
    "        df_train = np.array(pd.concat([train_type1, train_type2, train_type3, train_type4, train_type5, train_type6, train_type7]))\n",
    "        df_test = np.array(pd.concat([test_type1, test_type2, test_type3, test_type4, test_type5, test_type6, test_type7]))\n",
    "        \n",
    "        np.random.shuffle(df_train)\n",
    "        np.random.shuffle(df_test)\n",
    "        \n",
    "        return df_train, df_test\n",
    "        \n",
    "        # 모델 생성\n",
    "    def create_model(self, x_train, t_train, activation, epoch_num = 60, batch_num = 16):\n",
    "        model = Sequential()\n",
    "        model.add(Dense(16, input_dim = 2, activation = activation ))\n",
    "        model.add(Dense(16, activation = activation ))\n",
    "        model.add(Dense(7, activation = 'softmax'))\n",
    "        model.compile(loss = 'categorical_crossentropy', optimizer = optimizers.Adam(lr=0.01), metrics = ['accuracy'])\n",
    "        hist = model.fit(x_train, t_train, epochs = epoch_num, batch_size = batch_num)\n",
    "        return model, hist\n",
    "    \n",
    "        # history 플로팅\n",
    "    def plot_history(self, hist):\n",
    "        plt.figure(figsize = (15, 5))\n",
    "        plt.plot(hist.history['loss'], 'y', label = 'loss')\n",
    "        plt.plot(hist.history['acc'], 'b', label = 'acc')\n",
    "        plt.xlabel('epoch')\n",
    "        plt.legend(loc = 'best')\n",
    "        plt.show()\n",
    "        \n",
    "        # test 예측\n",
    "    def predict(self, model, test_X):\n",
    "        model_pred = model.predict(test_X)\n",
    "        label = np.zeros((model_pred.shape[0], model_pred.shape[1]))\n",
    "        for index, value in enumerate(model_pred):\n",
    "            label[index, (np.argmax(value))] = 1\n",
    "        \n",
    "        return label\n",
    "    \n",
    "        \n",
    "    def get_accuracy(self, data_pred, test_Y):\n",
    "        \n",
    "        error = 0\n",
    "        for i, value in enumerate(data_pred == test_Y):\n",
    "            if False in value:\n",
    "                error += 1\n",
    "\n",
    "        accuracy = round(100 - error/(len(test_Y)), 10)\n",
    "        print(accuracy, '%')\n",
    "        \n",
    "        return accuracy\n",
    "\n",
    "    "
   ]
  },
  {
   "cell_type": "markdown",
   "metadata": {},
   "source": [
    "### 1. model_relu_500 & model_sigmoid_500"
   ]
  },
  {
   "cell_type": "code",
   "execution_count": 3,
   "metadata": {},
   "outputs": [],
   "source": [
    "analysis_500 = Analysis()"
   ]
  },
  {
   "cell_type": "markdown",
   "metadata": {},
   "source": [
    "### create_dataset"
   ]
  },
  {
   "cell_type": "code",
   "execution_count": 4,
   "metadata": {},
   "outputs": [
    {
     "name": "stdout",
     "output_type": "stream",
     "text": [
      "[[0.37454012 0.95071431]\n",
      " [0.73199394 0.59865848]\n",
      " [0.15601864 0.15599452]\n",
      " [0.05808361 0.86617615]\n",
      " [0.60111501 0.70807258]]\n",
      "(2000, 2)\n"
     ]
    }
   ],
   "source": [
    "data = analysis_500.create_dataset(4000)\n",
    "print(data[0 : 5])\n",
    "print(data.shape)"
   ]
  },
  {
   "cell_type": "markdown",
   "metadata": {},
   "source": [
    "### plot_data"
   ]
  },
  {
   "cell_type": "code",
   "execution_count": 5,
   "metadata": {},
   "outputs": [
    {
     "data": {
      "image/png": "[encoded data removed]",
      "text/plain": [
       "<Figure size 504x504 with 1 Axes>"
      ]
     },
     "metadata": {
      "needs_background": "light"
     },
     "output_type": "display_data"
    }
   ],
   "source": [
    "analysis_500.plot_data(data)"
   ]
  },
  {
   "cell_type": "markdown",
   "metadata": {},
   "source": [
    "### classify_data"
   ]
  },
  {
   "cell_type": "code",
   "execution_count": 6,
   "metadata": {},
   "outputs": [
    {
     "name": "stdout",
     "output_type": "stream",
     "text": [
      "['type3' 'type4' 'type1' 'type3' 'type4' 'type3' 'type2' 'type1' 'type3'\n",
      " 'type1' 'type2' 'type1' 'type3' 'type3' 'type2' 'type2' 'type3' 'type7'\n",
      " 'type1' 'type2' 'type1' 'type3' 'type3' 'type3' 'type2' 'type7' 'type7'\n",
      " 'type5' 'type1' 'type1']\n",
      "[[0.37454012 0.95071431]\n",
      " [0.73199394 0.59865848]\n",
      " [0.15601864 0.15599452]\n",
      " [0.05808361 0.86617615]\n",
      " [0.60111501 0.70807258]\n",
      " [0.02058449 0.96990985]\n",
      " [0.83244264 0.21233911]\n",
      " [0.18182497 0.18340451]\n",
      " [0.30424224 0.52475643]\n",
      " [0.43194502 0.29122914]]\n"
     ]
    }
   ],
   "source": [
    "target = analysis_500.classify_data(data)\n",
    "print(target[0 : 30])\n",
    "print(data[0:10])"
   ]
  },
  {
   "cell_type": "code",
   "execution_count": 7,
   "metadata": {},
   "outputs": [
    {
     "name": "stdout",
     "output_type": "stream",
     "text": [
      "499\n",
      "496\n",
      "503\n",
      "132\n",
      "114\n",
      "132\n",
      "124\n"
     ]
    }
   ],
   "source": [
    "for i in range(1,8):\n",
    "    print(len(target[target=='type' + str(i)]))"
   ]
  },
  {
   "cell_type": "markdown",
   "metadata": {},
   "source": [
    "### encode_data"
   ]
  },
  {
   "cell_type": "code",
   "execution_count": 8,
   "metadata": {},
   "outputs": [
    {
     "name": "stdout",
     "output_type": "stream",
     "text": [
      "[[0 0 1 0 0 0 0]\n",
      " [0 0 0 1 0 0 0]\n",
      " [1 0 0 0 0 0 0]\n",
      " [0 0 1 0 0 0 0]\n",
      " [0 0 0 1 0 0 0]\n",
      " [0 0 1 0 0 0 0]\n",
      " [0 1 0 0 0 0 0]\n",
      " [1 0 0 0 0 0 0]\n",
      " [0 0 1 0 0 0 0]\n",
      " [1 0 0 0 0 0 0]]\n"
     ]
    }
   ],
   "source": [
    "encoded_target = analysis_500.encode_data(target)\n",
    "print(encoded_target[0:10])"
   ]
  },
  {
   "cell_type": "markdown",
   "metadata": {},
   "source": [
    "### get_train_And_test\n",
    "\n",
    "test[1000]개는 고정이므로 따로 생성한 후에, train을 위한 train[500] 추가로 생성"
   ]
  },
  {
   "cell_type": "code",
   "execution_count": 9,
   "metadata": {},
   "outputs": [],
   "source": [
    "_, test_1000 = analysis_500.get_train_And_test(data, target, ratio = 0.5)"
   ]
  },
  {
   "cell_type": "code",
   "execution_count": 10,
   "metadata": {},
   "outputs": [
    {
     "name": "stdout",
     "output_type": "stream",
     "text": [
      "(1001, 10)\n"
     ]
    }
   ],
   "source": [
    "print(test_1000.shape) # 각 클래스 별 80%의 개수로 분리하면서 생긴 오차. 고정인 test[1000]만 사용할 것 "
   ]
  },
  {
   "cell_type": "code",
   "execution_count": 11,
   "metadata": {},
   "outputs": [],
   "source": [
    "test_1000_X = np.float32(test_1000[:, :2])\n",
    "test_1000_y = np.float32(test_1000[:, 2:9])"
   ]
  },
  {
   "cell_type": "code",
   "execution_count": 12,
   "metadata": {},
   "outputs": [
    {
     "name": "stdout",
     "output_type": "stream",
     "text": [
      "(498, 10)\n"
     ]
    }
   ],
   "source": [
    "train_500, _ = analysis_500.get_train_And_test(data, target, ratio = 0.25)\n",
    "print(train_500.shape)"
   ]
  },
  {
   "cell_type": "code",
   "execution_count": 13,
   "metadata": {},
   "outputs": [
    {
     "data": {
      "text/plain": [
       "array([[1, 0, 0, ..., 0, 0, 0],\n",
       "       [1, 0, 0, ..., 0, 0, 0],\n",
       "       [1, 0, 0, ..., 0, 0, 0],\n",
       "       ...,\n",
       "       [1, 0, 0, ..., 0, 0, 0],\n",
       "       [0, 0, 0, ..., 0, 1, 0],\n",
       "       [1, 0, 0, ..., 0, 0, 0]], dtype=object)"
      ]
     },
     "execution_count": 13,
     "metadata": {},
     "output_type": "execute_result"
    }
   ],
   "source": [
    "train_500[:, 2:9]"
   ]
  },
  {
   "cell_type": "code",
   "execution_count": 14,
   "metadata": {},
   "outputs": [],
   "source": [
    "train_500_X = np.float32(train_500[:, :2])\n",
    "train_500_y = np.float32(train_500[:, 2:9])"
   ]
  },
  {
   "cell_type": "markdown",
   "metadata": {},
   "source": [
    "### create_model 1: relu_500"
   ]
  },
  {
   "cell_type": "code",
   "execution_count": 15,
   "metadata": {},
   "outputs": [
    {
     "name": "stderr",
     "output_type": "stream",
     "text": [
      "WARNING: Logging before flag parsing goes to stderr.\n",
      "W1221 19:05:54.740427  8696 deprecation_wrapper.py:119] From C:\\Anaconda_\\lib\\site-packages\\keras\\backend\\tensorflow_backend.py:74: The name tf.get_default_graph is deprecated. Please use tf.compat.v1.get_default_graph instead.\n",
      "\n",
      "W1221 19:05:54.743420  8696 deprecation_wrapper.py:119] From C:\\Anaconda_\\lib\\site-packages\\keras\\backend\\tensorflow_backend.py:517: The name tf.placeholder is deprecated. Please use tf.compat.v1.placeholder instead.\n",
      "\n",
      "W1221 19:05:54.748405  8696 deprecation_wrapper.py:119] From C:\\Anaconda_\\lib\\site-packages\\keras\\backend\\tensorflow_backend.py:4138: The name tf.random_uniform is deprecated. Please use tf.random.uniform instead.\n",
      "\n",
      "W1221 19:05:54.859110  8696 deprecation_wrapper.py:119] From C:\\Anaconda_\\lib\\site-packages\\keras\\optimizers.py:790: The name tf.train.Optimizer is deprecated. Please use tf.compat.v1.train.Optimizer instead.\n",
      "\n",
      "W1221 19:05:54.873072  8696 deprecation_wrapper.py:119] From C:\\Anaconda_\\lib\\site-packages\\keras\\backend\\tensorflow_backend.py:3295: The name tf.log is deprecated. Please use tf.math.log instead.\n",
      "\n",
      "W1221 19:05:55.028655  8696 deprecation.py:323] From C:\\Anaconda_\\lib\\site-packages\\tensorflow\\python\\ops\\math_grad.py:1250: add_dispatch_support.<locals>.wrapper (from tensorflow.python.ops.array_ops) is deprecated and will be removed in a future version.\n",
      "Instructions for updating:\n",
      "Use tf.where in 2.0, which has the same broadcast rule as np.where\n",
      "W1221 19:05:55.108444  8696 deprecation_wrapper.py:119] From C:\\Anaconda_\\lib\\site-packages\\keras\\backend\\tensorflow_backend.py:986: The name tf.assign_add is deprecated. Please use tf.compat.v1.assign_add instead.\n",
      "\n"
     ]
    },
    {
     "name": "stdout",
     "output_type": "stream",
     "text": [
      "Epoch 1/100\n",
      "498/498 [==============================] - 0s 687us/step - loss: 1.7703 - acc: 0.2631\n",
      "Epoch 2/100\n",
      "498/498 [==============================] - 0s 99us/step - loss: 1.4505 - acc: 0.4900\n",
      "Epoch 3/100\n",
      "498/498 [==============================] - 0s 121us/step - loss: 0.9777 - acc: 0.6386\n",
      "Epoch 4/100\n",
      "498/498 [==============================] - 0s 120us/step - loss: 0.6257 - acc: 0.7912\n",
      "Epoch 5/100\n",
      "498/498 [==============================] - 0s 118us/step - loss: 0.4786 - acc: 0.8233\n",
      "Epoch 6/100\n",
      "498/498 [==============================] - 0s 110us/step - loss: 0.3904 - acc: 0.8835\n",
      "Epoch 7/100\n",
      "498/498 [==============================] - 0s 126us/step - loss: 0.3601 - acc: 0.8775\n",
      "Epoch 8/100\n",
      "498/498 [==============================] - 0s 101us/step - loss: 0.3055 - acc: 0.8956\n",
      "Epoch 9/100\n",
      "498/498 [==============================] - 0s 114us/step - loss: 0.2665 - acc: 0.9217\n",
      "Epoch 10/100\n",
      "498/498 [==============================] - 0s 122us/step - loss: 0.2444 - acc: 0.9257\n",
      "Epoch 11/100\n",
      "498/498 [==============================] - 0s 114us/step - loss: 0.2275 - acc: 0.9277\n",
      "Epoch 12/100\n",
      "498/498 [==============================] - 0s 117us/step - loss: 0.2265 - acc: 0.9197\n",
      "Epoch 13/100\n",
      "498/498 [==============================] - 0s 105us/step - loss: 0.2140 - acc: 0.9297\n",
      "Epoch 14/100\n",
      "498/498 [==============================] - 0s 108us/step - loss: 0.2286 - acc: 0.9096\n",
      "Epoch 15/100\n",
      "498/498 [==============================] - 0s 124us/step - loss: 0.1835 - acc: 0.9277\n",
      "Epoch 16/100\n",
      "498/498 [==============================] - 0s 130us/step - loss: 0.1950 - acc: 0.9398\n",
      "Epoch 17/100\n",
      "498/498 [==============================] - 0s 144us/step - loss: 0.2369 - acc: 0.8835\n",
      "Epoch 18/100\n",
      "498/498 [==============================] - 0s 120us/step - loss: 0.2237 - acc: 0.9056\n",
      "Epoch 19/100\n",
      "498/498 [==============================] - 0s 116us/step - loss: 0.1940 - acc: 0.9157\n",
      "Epoch 20/100\n",
      "498/498 [==============================] - 0s 105us/step - loss: 0.1725 - acc: 0.9217\n",
      "Epoch 21/100\n",
      "498/498 [==============================] - 0s 114us/step - loss: 0.1569 - acc: 0.9458\n",
      "Epoch 22/100\n",
      "498/498 [==============================] - 0s 116us/step - loss: 0.1577 - acc: 0.9418\n",
      "Epoch 23/100\n",
      "498/498 [==============================] - 0s 106us/step - loss: 0.1581 - acc: 0.9378\n",
      "Epoch 24/100\n",
      "498/498 [==============================] - 0s 117us/step - loss: 0.1456 - acc: 0.9518\n",
      "Epoch 25/100\n",
      "498/498 [==============================] - 0s 118us/step - loss: 0.1554 - acc: 0.9458\n",
      "Epoch 26/100\n",
      "498/498 [==============================] - 0s 107us/step - loss: 0.1469 - acc: 0.9337\n",
      "Epoch 27/100\n",
      "498/498 [==============================] - 0s 120us/step - loss: 0.1613 - acc: 0.9317\n",
      "Epoch 28/100\n",
      "498/498 [==============================] - 0s 118us/step - loss: 0.1472 - acc: 0.9418\n",
      "Epoch 29/100\n",
      "498/498 [==============================] - 0s 118us/step - loss: 0.1324 - acc: 0.9578\n",
      "Epoch 30/100\n",
      "498/498 [==============================] - 0s 114us/step - loss: 0.1385 - acc: 0.9438\n",
      "Epoch 31/100\n",
      "498/498 [==============================] - 0s 101us/step - loss: 0.1406 - acc: 0.9478\n",
      "Epoch 32/100\n",
      "498/498 [==============================] - 0s 106us/step - loss: 0.1555 - acc: 0.9237\n",
      "Epoch 33/100\n",
      "498/498 [==============================] - 0s 107us/step - loss: 0.1501 - acc: 0.9398\n",
      "Epoch 34/100\n",
      "498/498 [==============================] - 0s 108us/step - loss: 0.1262 - acc: 0.9538\n",
      "Epoch 35/100\n",
      "498/498 [==============================] - 0s 115us/step - loss: 0.1270 - acc: 0.9478\n",
      "Epoch 36/100\n",
      "498/498 [==============================] - 0s 134us/step - loss: 0.1217 - acc: 0.9538\n",
      "Epoch 37/100\n",
      "498/498 [==============================] - 0s 124us/step - loss: 0.1128 - acc: 0.9679\n",
      "Epoch 38/100\n",
      "498/498 [==============================] - 0s 102us/step - loss: 0.1253 - acc: 0.9538\n",
      "Epoch 39/100\n",
      "498/498 [==============================] - 0s 94us/step - loss: 0.1168 - acc: 0.9478\n",
      "Epoch 40/100\n",
      "498/498 [==============================] - 0s 122us/step - loss: 0.1606 - acc: 0.9277\n",
      "Epoch 41/100\n",
      "498/498 [==============================] - 0s 114us/step - loss: 0.1447 - acc: 0.9378\n",
      "Epoch 42/100\n",
      "498/498 [==============================] - 0s 100us/step - loss: 0.1600 - acc: 0.9357\n",
      "Epoch 43/100\n",
      "498/498 [==============================] - ETA: 0s - loss: 0.1246 - acc: 0.949 - 0s 112us/step - loss: 0.1241 - acc: 0.9498\n",
      "Epoch 44/100\n",
      "498/498 [==============================] - 0s 139us/step - loss: 0.1175 - acc: 0.9458\n",
      "Epoch 45/100\n",
      "498/498 [==============================] - 0s 112us/step - loss: 0.1287 - acc: 0.9538\n",
      "Epoch 46/100\n",
      "498/498 [==============================] - 0s 98us/step - loss: 0.1551 - acc: 0.9317\n",
      "Epoch 47/100\n",
      "498/498 [==============================] - 0s 104us/step - loss: 0.1131 - acc: 0.9558\n",
      "Epoch 48/100\n",
      "498/498 [==============================] - 0s 108us/step - loss: 0.1016 - acc: 0.9558\n",
      "Epoch 49/100\n",
      "498/498 [==============================] - 0s 116us/step - loss: 0.1008 - acc: 0.9639\n",
      "Epoch 50/100\n",
      "498/498 [==============================] - 0s 106us/step - loss: 0.1110 - acc: 0.9538\n",
      "Epoch 51/100\n",
      "498/498 [==============================] - 0s 94us/step - loss: 0.1558 - acc: 0.9378\n",
      "Epoch 52/100\n",
      "498/498 [==============================] - 0s 104us/step - loss: 0.1244 - acc: 0.9438\n",
      "Epoch 53/100\n",
      "498/498 [==============================] - 0s 112us/step - loss: 0.1013 - acc: 0.9679\n",
      "Epoch 54/100\n",
      "498/498 [==============================] - 0s 113us/step - loss: 0.3084 - acc: 0.8815\n",
      "Epoch 55/100\n",
      "498/498 [==============================] - 0s 142us/step - loss: 0.1069 - acc: 0.9578\n",
      "Epoch 56/100\n",
      "498/498 [==============================] - 0s 103us/step - loss: 0.1650 - acc: 0.9197\n",
      "Epoch 57/100\n",
      "498/498 [==============================] - 0s 122us/step - loss: 0.1172 - acc: 0.9438\n",
      "Epoch 58/100\n",
      "498/498 [==============================] - 0s 118us/step - loss: 0.1738 - acc: 0.9277\n",
      "Epoch 59/100\n",
      "498/498 [==============================] - 0s 94us/step - loss: 0.1022 - acc: 0.9618\n",
      "Epoch 60/100\n",
      "498/498 [==============================] - 0s 118us/step - loss: 0.0884 - acc: 0.9719\n",
      "Epoch 61/100\n",
      "498/498 [==============================] - 0s 106us/step - loss: 0.0894 - acc: 0.9659\n",
      "Epoch 62/100\n",
      "498/498 [==============================] - 0s 134us/step - loss: 0.0935 - acc: 0.9719\n",
      "Epoch 63/100\n",
      "498/498 [==============================] - 0s 133us/step - loss: 0.1116 - acc: 0.9498\n",
      "Epoch 64/100\n",
      "498/498 [==============================] - 0s 128us/step - loss: 0.0922 - acc: 0.9679\n",
      "Epoch 65/100\n",
      "498/498 [==============================] - 0s 116us/step - loss: 0.0925 - acc: 0.9679\n",
      "Epoch 66/100\n",
      "498/498 [==============================] - 0s 103us/step - loss: 0.0934 - acc: 0.9679\n",
      "Epoch 67/100\n",
      "498/498 [==============================] - 0s 124us/step - loss: 0.1061 - acc: 0.9598\n",
      "Epoch 68/100\n",
      "498/498 [==============================] - 0s 142us/step - loss: 0.1149 - acc: 0.9458\n",
      "Epoch 69/100\n",
      "498/498 [==============================] - 0s 108us/step - loss: 0.0950 - acc: 0.9659\n",
      "Epoch 70/100\n",
      "498/498 [==============================] - 0s 109us/step - loss: 0.3312 - acc: 0.8775\n",
      "Epoch 71/100\n",
      "498/498 [==============================] - 0s 104us/step - loss: 0.1227 - acc: 0.9518\n",
      "Epoch 72/100\n",
      "498/498 [==============================] - ETA: 0s - loss: 0.0244 - acc: 1.000 - 0s 108us/step - loss: 0.0990 - acc: 0.9699\n",
      "Epoch 73/100\n",
      "498/498 [==============================] - 0s 107us/step - loss: 0.0880 - acc: 0.9699\n",
      "Epoch 74/100\n",
      "498/498 [==============================] - 0s 108us/step - loss: 0.0981 - acc: 0.9578\n",
      "Epoch 75/100\n",
      "498/498 [==============================] - 0s 108us/step - loss: 0.1297 - acc: 0.9458\n",
      "Epoch 76/100\n",
      "498/498 [==============================] - 0s 106us/step - loss: 0.1225 - acc: 0.9538\n",
      "Epoch 77/100\n",
      "498/498 [==============================] - 0s 113us/step - loss: 0.3004 - acc: 0.8976\n",
      "Epoch 78/100\n",
      "498/498 [==============================] - 0s 118us/step - loss: 0.1250 - acc: 0.9518\n",
      "Epoch 79/100\n",
      "498/498 [==============================] - 0s 118us/step - loss: 0.1410 - acc: 0.9538\n",
      "Epoch 80/100\n",
      "498/498 [==============================] - 0s 108us/step - loss: 0.1411 - acc: 0.9398\n",
      "Epoch 81/100\n",
      "498/498 [==============================] - 0s 105us/step - loss: 0.1025 - acc: 0.9659\n",
      "Epoch 82/100\n",
      "498/498 [==============================] - 0s 111us/step - loss: 0.0964 - acc: 0.9639\n",
      "Epoch 83/100\n",
      "498/498 [==============================] - 0s 113us/step - loss: 0.0811 - acc: 0.9679\n",
      "Epoch 84/100\n",
      "498/498 [==============================] - 0s 110us/step - loss: 0.0803 - acc: 0.9719\n",
      "Epoch 85/100\n",
      "498/498 [==============================] - 0s 113us/step - loss: 0.0905 - acc: 0.9679\n",
      "Epoch 86/100\n",
      "498/498 [==============================] - 0s 102us/step - loss: 0.1069 - acc: 0.9538\n",
      "Epoch 87/100\n",
      "498/498 [==============================] - 0s 116us/step - loss: 0.1087 - acc: 0.9618\n",
      "Epoch 88/100\n",
      "498/498 [==============================] - 0s 110us/step - loss: 0.0917 - acc: 0.9639\n",
      "Epoch 89/100\n",
      "498/498 [==============================] - 0s 115us/step - loss: 0.0704 - acc: 0.9880\n",
      "Epoch 90/100\n",
      "498/498 [==============================] - 0s 116us/step - loss: 0.0787 - acc: 0.9659\n",
      "Epoch 91/100\n",
      "498/498 [==============================] - 0s 108us/step - loss: 0.0698 - acc: 0.9779\n",
      "Epoch 92/100\n",
      "498/498 [==============================] - 0s 107us/step - loss: 0.0815 - acc: 0.9739\n",
      "Epoch 93/100\n",
      "498/498 [==============================] - 0s 106us/step - loss: 0.0776 - acc: 0.9759\n",
      "Epoch 94/100\n",
      "498/498 [==============================] - 0s 116us/step - loss: 0.0811 - acc: 0.9699\n",
      "Epoch 95/100\n",
      "498/498 [==============================] - 0s 114us/step - loss: 0.0846 - acc: 0.9639\n",
      "Epoch 96/100\n",
      "498/498 [==============================] - 0s 124us/step - loss: 0.0860 - acc: 0.9739\n",
      "Epoch 97/100\n",
      "498/498 [==============================] - 0s 115us/step - loss: 0.1086 - acc: 0.9498\n",
      "Epoch 98/100\n",
      "498/498 [==============================] - 0s 106us/step - loss: 0.1060 - acc: 0.9498\n",
      "Epoch 99/100\n",
      "498/498 [==============================] - 0s 104us/step - loss: 0.2665 - acc: 0.9116\n",
      "Epoch 100/100\n",
      "498/498 [==============================] - 0s 118us/step - loss: 0.1638 - acc: 0.9257\n"
     ]
    }
   ],
   "source": [
    "model_relu_500, model_relu_500_hist = analysis_500.create_model(train_500_X, train_500_y, activation = 'relu', epoch_num=100, batch_num=16)"
   ]
  },
  {
   "cell_type": "code",
   "execution_count": 16,
   "metadata": {},
   "outputs": [],
   "source": [
    "pred_model_relu_500 = analysis_500.predict(model_relu_500, test_1000_X)"
   ]
  },
  {
   "cell_type": "code",
   "execution_count": 17,
   "metadata": {},
   "outputs": [
    {
     "name": "stdout",
     "output_type": "stream",
     "text": [
      "99.9440559441 %\n"
     ]
    }
   ],
   "source": [
    "accuracy_model_relu_500 = analysis_500.get_accuracy(pred_model_relu_500, test_1000_y)"
   ]
  },
  {
   "cell_type": "markdown",
   "metadata": {},
   "source": [
    "### create_model 2: sigmoid_500"
   ]
  },
  {
   "cell_type": "code",
   "execution_count": 18,
   "metadata": {},
   "outputs": [
    {
     "name": "stdout",
     "output_type": "stream",
     "text": [
      "Epoch 1/100\n",
      "498/498 [==============================] - 0s 696us/step - loss: 1.8053 - acc: 0.2390\n",
      "Epoch 2/100\n",
      "498/498 [==============================] - 0s 94us/step - loss: 1.7213 - acc: 0.3293\n",
      "Epoch 3/100\n",
      "498/498 [==============================] - 0s 107us/step - loss: 1.6910 - acc: 0.3795\n",
      "Epoch 4/100\n",
      "498/498 [==============================] - 0s 150us/step - loss: 1.6315 - acc: 0.4980\n",
      "Epoch 5/100\n",
      "498/498 [==============================] - 0s 118us/step - loss: 1.4805 - acc: 0.5803\n",
      "Epoch 6/100\n",
      "498/498 [==============================] - 0s 122us/step - loss: 1.2773 - acc: 0.6024\n",
      "Epoch 7/100\n",
      "498/498 [==============================] - 0s 125us/step - loss: 1.0501 - acc: 0.6948\n",
      "Epoch 8/100\n",
      "498/498 [==============================] - 0s 124us/step - loss: 0.8692 - acc: 0.7108\n",
      "Epoch 9/100\n",
      "498/498 [==============================] - 0s 122us/step - loss: 0.7312 - acc: 0.7631\n",
      "Epoch 10/100\n",
      "498/498 [==============================] - 0s 100us/step - loss: 0.6328 - acc: 0.7892\n",
      "Epoch 11/100\n",
      "498/498 [==============================] - 0s 115us/step - loss: 0.5639 - acc: 0.8333\n",
      "Epoch 12/100\n",
      "498/498 [==============================] - 0s 118us/step - loss: 0.5128 - acc: 0.8434\n",
      "Epoch 13/100\n",
      "498/498 [==============================] - 0s 132us/step - loss: 0.4680 - acc: 0.8695\n",
      "Epoch 14/100\n",
      "498/498 [==============================] - 0s 116us/step - loss: 0.4409 - acc: 0.8554\n",
      "Epoch 15/100\n",
      "498/498 [==============================] - 0s 114us/step - loss: 0.4156 - acc: 0.8655\n",
      "Epoch 16/100\n",
      "498/498 [==============================] - 0s 115us/step - loss: 0.3910 - acc: 0.8936\n",
      "Epoch 17/100\n",
      "498/498 [==============================] - ETA: 0s - loss: 0.3777 - acc: 0.906 - 0s 124us/step - loss: 0.3642 - acc: 0.9096\n",
      "Epoch 18/100\n",
      "498/498 [==============================] - 0s 118us/step - loss: 0.3566 - acc: 0.8815\n",
      "Epoch 19/100\n",
      "498/498 [==============================] - 0s 122us/step - loss: 0.3314 - acc: 0.9177\n",
      "Epoch 20/100\n",
      "498/498 [==============================] - 0s 116us/step - loss: 0.3174 - acc: 0.9197\n",
      "Epoch 21/100\n",
      "498/498 [==============================] - 0s 122us/step - loss: 0.3086 - acc: 0.9116\n",
      "Epoch 22/100\n",
      "498/498 [==============================] - 0s 142us/step - loss: 0.3035 - acc: 0.9157\n",
      "Epoch 23/100\n",
      "498/498 [==============================] - 0s 144us/step - loss: 0.2874 - acc: 0.9237\n",
      "Epoch 24/100\n",
      "498/498 [==============================] - 0s 140us/step - loss: 0.2688 - acc: 0.9257\n",
      "Epoch 25/100\n",
      "498/498 [==============================] - 0s 134us/step - loss: 0.2560 - acc: 0.9398\n",
      "Epoch 26/100\n",
      "498/498 [==============================] - 0s 118us/step - loss: 0.2552 - acc: 0.9337\n",
      "Epoch 27/100\n",
      "498/498 [==============================] - 0s 140us/step - loss: 0.2367 - acc: 0.9357\n",
      "Epoch 28/100\n",
      "498/498 [==============================] - 0s 121us/step - loss: 0.2377 - acc: 0.9418\n",
      "Epoch 29/100\n",
      "498/498 [==============================] - 0s 124us/step - loss: 0.2340 - acc: 0.9498\n",
      "Epoch 30/100\n",
      "498/498 [==============================] - 0s 114us/step - loss: 0.2154 - acc: 0.9538\n",
      "Epoch 31/100\n",
      "498/498 [==============================] - 0s 107us/step - loss: 0.2067 - acc: 0.9518\n",
      "Epoch 32/100\n",
      "498/498 [==============================] - 0s 123us/step - loss: 0.2110 - acc: 0.9418\n",
      "Epoch 33/100\n",
      "498/498 [==============================] - 0s 121us/step - loss: 0.2038 - acc: 0.9558\n",
      "Epoch 34/100\n",
      "498/498 [==============================] - 0s 114us/step - loss: 0.2137 - acc: 0.9257\n",
      "Epoch 35/100\n",
      "498/498 [==============================] - 0s 126us/step - loss: 0.1994 - acc: 0.9518\n",
      "Epoch 36/100\n",
      "498/498 [==============================] - 0s 103us/step - loss: 0.1807 - acc: 0.9699\n",
      "Epoch 37/100\n",
      "498/498 [==============================] - 0s 121us/step - loss: 0.1824 - acc: 0.9478\n",
      "Epoch 38/100\n",
      "498/498 [==============================] - 0s 122us/step - loss: 0.1748 - acc: 0.9618\n",
      "Epoch 39/100\n",
      "498/498 [==============================] - 0s 121us/step - loss: 0.1790 - acc: 0.9558\n",
      "Epoch 40/100\n",
      "498/498 [==============================] - 0s 114us/step - loss: 0.1737 - acc: 0.9438\n",
      "Epoch 41/100\n",
      "498/498 [==============================] - 0s 120us/step - loss: 0.1719 - acc: 0.9498\n",
      "Epoch 42/100\n",
      "498/498 [==============================] - 0s 126us/step - loss: 0.1644 - acc: 0.9558\n",
      "Epoch 43/100\n",
      "498/498 [==============================] - 0s 98us/step - loss: 0.1719 - acc: 0.9478\n",
      "Epoch 44/100\n",
      "498/498 [==============================] - 0s 108us/step - loss: 0.1687 - acc: 0.9398\n",
      "Epoch 45/100\n",
      "498/498 [==============================] - 0s 141us/step - loss: 0.1574 - acc: 0.9618\n",
      "Epoch 46/100\n",
      "498/498 [==============================] - 0s 126us/step - loss: 0.1552 - acc: 0.9558\n",
      "Epoch 47/100\n",
      "498/498 [==============================] - 0s 100us/step - loss: 0.1524 - acc: 0.9618\n",
      "Epoch 48/100\n",
      "498/498 [==============================] - 0s 148us/step - loss: 0.1532 - acc: 0.9578\n",
      "Epoch 49/100\n",
      "498/498 [==============================] - 0s 126us/step - loss: 0.1497 - acc: 0.9558\n",
      "Epoch 50/100\n",
      "498/498 [==============================] - 0s 116us/step - loss: 0.1403 - acc: 0.9578\n",
      "Epoch 51/100\n",
      "498/498 [==============================] - 0s 121us/step - loss: 0.1376 - acc: 0.9659\n",
      "Epoch 52/100\n",
      "498/498 [==============================] - 0s 136us/step - loss: 0.1486 - acc: 0.9478\n",
      "Epoch 53/100\n",
      "498/498 [==============================] - 0s 122us/step - loss: 0.1350 - acc: 0.9618\n",
      "Epoch 54/100\n",
      "498/498 [==============================] - 0s 124us/step - loss: 0.1345 - acc: 0.9639\n",
      "Epoch 55/100\n",
      "498/498 [==============================] - 0s 126us/step - loss: 0.1448 - acc: 0.9558\n",
      "Epoch 56/100\n",
      "498/498 [==============================] - 0s 136us/step - loss: 0.1319 - acc: 0.9679\n",
      "Epoch 57/100\n",
      "498/498 [==============================] - 0s 104us/step - loss: 0.1311 - acc: 0.9659\n",
      "Epoch 58/100\n",
      "498/498 [==============================] - 0s 116us/step - loss: 0.1209 - acc: 0.9759\n",
      "Epoch 59/100\n",
      "498/498 [==============================] - 0s 116us/step - loss: 0.1382 - acc: 0.9498\n",
      "Epoch 60/100\n",
      "498/498 [==============================] - 0s 108us/step - loss: 0.1346 - acc: 0.9538\n",
      "Epoch 61/100\n",
      "498/498 [==============================] - 0s 95us/step - loss: 0.1150 - acc: 0.9759\n",
      "Epoch 62/100\n",
      "498/498 [==============================] - 0s 120us/step - loss: 0.1164 - acc: 0.9739\n",
      "Epoch 63/100\n",
      "498/498 [==============================] - 0s 136us/step - loss: 0.1220 - acc: 0.9699\n",
      "Epoch 64/100\n",
      "498/498 [==============================] - 0s 110us/step - loss: 0.1160 - acc: 0.9719\n",
      "Epoch 65/100\n",
      "498/498 [==============================] - 0s 102us/step - loss: 0.1141 - acc: 0.9679\n",
      "Epoch 66/100\n",
      "498/498 [==============================] - 0s 119us/step - loss: 0.1209 - acc: 0.9618\n",
      "Epoch 67/100\n",
      "498/498 [==============================] - 0s 108us/step - loss: 0.1313 - acc: 0.9478\n",
      "Epoch 68/100\n",
      "498/498 [==============================] - 0s 132us/step - loss: 0.1093 - acc: 0.9739\n",
      "Epoch 69/100\n",
      "498/498 [==============================] - 0s 114us/step - loss: 0.1091 - acc: 0.9759\n",
      "Epoch 70/100\n",
      "498/498 [==============================] - 0s 117us/step - loss: 0.1107 - acc: 0.9739\n",
      "Epoch 71/100\n",
      "498/498 [==============================] - 0s 120us/step - loss: 0.1102 - acc: 0.9719\n",
      "Epoch 72/100\n",
      "498/498 [==============================] - 0s 114us/step - loss: 0.1042 - acc: 0.9699\n",
      "Epoch 73/100\n",
      "498/498 [==============================] - 0s 116us/step - loss: 0.1168 - acc: 0.9618\n",
      "Epoch 74/100\n",
      "498/498 [==============================] - 0s 114us/step - loss: 0.1153 - acc: 0.9618\n",
      "Epoch 75/100\n",
      "498/498 [==============================] - 0s 118us/step - loss: 0.1062 - acc: 0.9759\n",
      "Epoch 76/100\n",
      "498/498 [==============================] - 0s 118us/step - loss: 0.1119 - acc: 0.9598\n",
      "Epoch 77/100\n",
      "498/498 [==============================] - 0s 120us/step - loss: 0.1043 - acc: 0.9679\n",
      "Epoch 78/100\n",
      "498/498 [==============================] - 0s 125us/step - loss: 0.0993 - acc: 0.9779\n",
      "Epoch 79/100\n",
      "498/498 [==============================] - 0s 112us/step - loss: 0.1025 - acc: 0.9659\n",
      "Epoch 80/100\n",
      "498/498 [==============================] - 0s 114us/step - loss: 0.0991 - acc: 0.9779\n",
      "Epoch 81/100\n",
      "498/498 [==============================] - 0s 118us/step - loss: 0.1000 - acc: 0.9719\n",
      "Epoch 82/100\n",
      "498/498 [==============================] - 0s 118us/step - loss: 0.0978 - acc: 0.9779\n",
      "Epoch 83/100\n",
      "498/498 [==============================] - 0s 109us/step - loss: 0.0963 - acc: 0.9639\n",
      "Epoch 84/100\n",
      "498/498 [==============================] - 0s 118us/step - loss: 0.0990 - acc: 0.9739\n",
      "Epoch 85/100\n",
      "498/498 [==============================] - 0s 108us/step - loss: 0.0954 - acc: 0.9659\n",
      "Epoch 86/100\n",
      "498/498 [==============================] - 0s 116us/step - loss: 0.1217 - acc: 0.9558\n",
      "Epoch 87/100\n",
      "498/498 [==============================] - 0s 118us/step - loss: 0.0965 - acc: 0.9719\n",
      "Epoch 88/100\n",
      "498/498 [==============================] - 0s 147us/step - loss: 0.0888 - acc: 0.9799\n",
      "Epoch 89/100\n",
      "498/498 [==============================] - 0s 110us/step - loss: 0.0872 - acc: 0.9799\n",
      "Epoch 90/100\n",
      "498/498 [==============================] - 0s 99us/step - loss: 0.0937 - acc: 0.9699\n",
      "Epoch 91/100\n",
      "498/498 [==============================] - 0s 107us/step - loss: 0.0911 - acc: 0.9819\n",
      "Epoch 92/100\n",
      "498/498 [==============================] - 0s 118us/step - loss: 0.0978 - acc: 0.9618\n",
      "Epoch 93/100\n",
      "498/498 [==============================] - 0s 107us/step - loss: 0.0887 - acc: 0.9699\n",
      "Epoch 94/100\n",
      "498/498 [==============================] - 0s 114us/step - loss: 0.0829 - acc: 0.9779\n",
      "Epoch 95/100\n",
      "498/498 [==============================] - 0s 126us/step - loss: 0.0973 - acc: 0.9558\n",
      "Epoch 96/100\n",
      "498/498 [==============================] - 0s 138us/step - loss: 0.0969 - acc: 0.9679\n",
      "Epoch 97/100\n",
      "498/498 [==============================] - 0s 140us/step - loss: 0.0863 - acc: 0.9779\n",
      "Epoch 98/100\n",
      "498/498 [==============================] - 0s 124us/step - loss: 0.0934 - acc: 0.9679\n",
      "Epoch 99/100\n",
      "498/498 [==============================] - 0s 103us/step - loss: 0.0991 - acc: 0.9659\n",
      "Epoch 100/100\n",
      "498/498 [==============================] - 0s 98us/step - loss: 0.0868 - acc: 0.9739\n"
     ]
    }
   ],
   "source": [
    "model_sigmoid_500, model_sigmoid_500_hist = analysis_500.create_model(train_500_X, train_500_y, activation = 'sigmoid', epoch_num=100, batch_num=16)"
   ]
  },
  {
   "cell_type": "code",
   "execution_count": 19,
   "metadata": {},
   "outputs": [
    {
     "name": "stdout",
     "output_type": "stream",
     "text": [
      "99.979020979 %\n"
     ]
    }
   ],
   "source": [
    "pred_model_sigmoid_500 = analysis_500.predict(model_sigmoid_500, test_1000_X)\n",
    "accuracy_model_sigmoid_500 = analysis_500.get_accuracy(pred_model_sigmoid_500, test_1000_y)"
   ]
  },
  {
   "cell_type": "markdown",
   "metadata": {},
   "source": [
    "### 2. model_relu_5000 & model_sigmoid_5000"
   ]
  },
  {
   "cell_type": "code",
   "execution_count": 20,
   "metadata": {},
   "outputs": [],
   "source": [
    "analysis_5000 = Analysis()"
   ]
  },
  {
   "cell_type": "markdown",
   "metadata": {},
   "source": [
    "### create_dataset"
   ]
  },
  {
   "cell_type": "code",
   "execution_count": 21,
   "metadata": {},
   "outputs": [
    {
     "name": "stdout",
     "output_type": "stream",
     "text": [
      "[[0.37454012 0.95071431]\n",
      " [0.73199394 0.59865848]\n",
      " [0.15601864 0.15599452]\n",
      " [0.05808361 0.86617615]\n",
      " [0.60111501 0.70807258]]\n",
      "(10000, 2)\n"
     ]
    }
   ],
   "source": [
    "data = analysis_5000.create_dataset(20000)\n",
    "print(data[0 : 5])\n",
    "print(data.shape)"
   ]
  },
  {
   "cell_type": "markdown",
   "metadata": {},
   "source": [
    "### plot_data"
   ]
  },
  {
   "cell_type": "code",
   "execution_count": 22,
   "metadata": {},
   "outputs": [
    {
     "data": {
      "image/png": "[encoded data removed]",
      "text/plain": [
       "<Figure size 504x504 with 1 Axes>"
      ]
     },
     "metadata": {
      "needs_background": "light"
     },
     "output_type": "display_data"
    }
   ],
   "source": [
    "analysis_5000.plot_data(data)"
   ]
  },
  {
   "cell_type": "markdown",
   "metadata": {},
   "source": [
    "### classify_data"
   ]
  },
  {
   "cell_type": "code",
   "execution_count": 23,
   "metadata": {},
   "outputs": [
    {
     "name": "stdout",
     "output_type": "stream",
     "text": [
      "['type3' 'type4' 'type1' 'type3' 'type4' 'type3' 'type2' 'type1' 'type3'\n",
      " 'type1' 'type2' 'type1' 'type3' 'type3' 'type2' 'type2' 'type3' 'type7'\n",
      " 'type1' 'type2' 'type1' 'type3' 'type3' 'type3' 'type2' 'type7' 'type7'\n",
      " 'type5' 'type1' 'type1']\n",
      "[[0.37454012 0.95071431]\n",
      " [0.73199394 0.59865848]\n",
      " [0.15601864 0.15599452]\n",
      " [0.05808361 0.86617615]\n",
      " [0.60111501 0.70807258]\n",
      " [0.02058449 0.96990985]\n",
      " [0.83244264 0.21233911]\n",
      " [0.18182497 0.18340451]\n",
      " [0.30424224 0.52475643]\n",
      " [0.43194502 0.29122914]]\n"
     ]
    }
   ],
   "source": [
    "target = analysis_5000.classify_data(data)\n",
    "print(target[0 : 30])\n",
    "print(data[0:10])"
   ]
  },
  {
   "cell_type": "code",
   "execution_count": 24,
   "metadata": {},
   "outputs": [
    {
     "name": "stdout",
     "output_type": "stream",
     "text": [
      "2505\n",
      "2493\n",
      "2509\n",
      "628\n",
      "643\n",
      "605\n",
      "617\n"
     ]
    }
   ],
   "source": [
    "for i in range(1,8):\n",
    "    print(len(target[target=='type' + str(i)]))"
   ]
  },
  {
   "cell_type": "markdown",
   "metadata": {},
   "source": [
    "### encode_data"
   ]
  },
  {
   "cell_type": "code",
   "execution_count": 25,
   "metadata": {},
   "outputs": [
    {
     "name": "stdout",
     "output_type": "stream",
     "text": [
      "[[0 0 1 0 0 0 0]\n",
      " [0 0 0 1 0 0 0]\n",
      " [1 0 0 0 0 0 0]\n",
      " [0 0 1 0 0 0 0]\n",
      " [0 0 0 1 0 0 0]\n",
      " [0 0 1 0 0 0 0]\n",
      " [0 1 0 0 0 0 0]\n",
      " [1 0 0 0 0 0 0]\n",
      " [0 0 1 0 0 0 0]\n",
      " [1 0 0 0 0 0 0]]\n"
     ]
    }
   ],
   "source": [
    "encoded_target = analysis_5000.encode_data(target)\n",
    "print(encoded_target[0:10])"
   ]
  },
  {
   "cell_type": "markdown",
   "metadata": {},
   "source": [
    "### get_train_And_test\n",
    "train을 위한 train[5000] 추가로 생성"
   ]
  },
  {
   "cell_type": "code",
   "execution_count": 26,
   "metadata": {},
   "outputs": [
    {
     "name": "stdout",
     "output_type": "stream",
     "text": [
      "(4997, 10)\n"
     ]
    }
   ],
   "source": [
    "train_5000, _ = analysis_5000.get_train_And_test(data, target, ratio = 0.5)\n",
    "print(train_5000.shape)"
   ]
  },
  {
   "cell_type": "code",
   "execution_count": 27,
   "metadata": {},
   "outputs": [
    {
     "data": {
      "text/plain": [
       "array([[0, 0, 1, ..., 0, 0, 0],\n",
       "       [0, 0, 1, ..., 0, 0, 0],\n",
       "       [0, 1, 0, ..., 0, 0, 0],\n",
       "       ...,\n",
       "       [0, 0, 1, ..., 0, 0, 0],\n",
       "       [1, 0, 0, ..., 0, 0, 0],\n",
       "       [0, 0, 1, ..., 0, 0, 0]], dtype=object)"
      ]
     },
     "execution_count": 27,
     "metadata": {},
     "output_type": "execute_result"
    }
   ],
   "source": [
    "train_5000[:, 2:9]"
   ]
  },
  {
   "cell_type": "code",
   "execution_count": 28,
   "metadata": {},
   "outputs": [],
   "source": [
    "train_5000_X = np.float32(train_5000[:, :2])\n",
    "train_5000_y = np.float32(train_5000[:, 2:9])"
   ]
  },
  {
   "cell_type": "markdown",
   "metadata": {},
   "source": [
    "### create_model 3: relu_5000"
   ]
  },
  {
   "cell_type": "code",
   "execution_count": 29,
   "metadata": {},
   "outputs": [
    {
     "name": "stdout",
     "output_type": "stream",
     "text": [
      "Epoch 1/100\n",
      "4997/4997 [==============================] - 1s 150us/step - loss: 0.6121 - acc: 0.7967\n",
      "Epoch 2/100\n",
      "4997/4997 [==============================] - 0s 85us/step - loss: 0.1752 - acc: 0.9372\n",
      "Epoch 3/100\n",
      "4997/4997 [==============================] - 0s 91us/step - loss: 0.1395 - acc: 0.9470\n",
      "Epoch 4/100\n",
      "4997/4997 [==============================] - 1s 110us/step - loss: 0.1284 - acc: 0.9476\n",
      "Epoch 5/100\n",
      "4997/4997 [==============================] - 0s 89us/step - loss: 0.1203 - acc: 0.9508\n",
      "Epoch 6/100\n",
      "4997/4997 [==============================] - 0s 86us/step - loss: 0.1144 - acc: 0.9524\n",
      "Epoch 7/100\n",
      "4997/4997 [==============================] - 0s 88us/step - loss: 0.1051 - acc: 0.9580\n",
      "Epoch 8/100\n",
      "4997/4997 [==============================] - 0s 100us/step - loss: 0.0989 - acc: 0.9596\n",
      "Epoch 9/100\n",
      "4997/4997 [==============================] - 0s 89us/step - loss: 0.0902 - acc: 0.9618\n",
      "Epoch 10/100\n",
      "4997/4997 [==============================] - 0s 88us/step - loss: 0.0947 - acc: 0.9624\n",
      "Epoch 11/100\n",
      "4997/4997 [==============================] - 0s 93us/step - loss: 0.0919 - acc: 0.9622\n",
      "Epoch 12/100\n",
      "4997/4997 [==============================] - 0s 86us/step - loss: 0.0911 - acc: 0.9628\n",
      "Epoch 13/100\n",
      "4997/4997 [==============================] - 0s 88us/step - loss: 0.0911 - acc: 0.9622\n",
      "Epoch 14/100\n",
      "4997/4997 [==============================] - 0s 89us/step - loss: 0.0750 - acc: 0.9682\n",
      "Epoch 15/100\n",
      "4997/4997 [==============================] - 0s 89us/step - loss: 0.0907 - acc: 0.9626\n",
      "Epoch 16/100\n",
      "4997/4997 [==============================] - 0s 90us/step - loss: 0.0984 - acc: 0.9572\n",
      "Epoch 17/100\n",
      "4997/4997 [==============================] - 0s 97us/step - loss: 0.0845 - acc: 0.9634\n",
      "Epoch 18/100\n",
      "4997/4997 [==============================] - 0s 89us/step - loss: 0.0784 - acc: 0.9672\n",
      "Epoch 19/100\n",
      "4997/4997 [==============================] - 0s 87us/step - loss: 0.0902 - acc: 0.9642\n",
      "Epoch 20/100\n",
      "4997/4997 [==============================] - 1s 105us/step - loss: 0.0998 - acc: 0.9584\n",
      "Epoch 21/100\n",
      "4997/4997 [==============================] - 0s 84us/step - loss: 0.0727 - acc: 0.9682\n",
      "Epoch 22/100\n",
      "4997/4997 [==============================] - 0s 86us/step - loss: 0.0873 - acc: 0.9638\n",
      "Epoch 23/100\n",
      "4997/4997 [==============================] - 0s 88us/step - loss: 0.0914 - acc: 0.9604\n",
      "Epoch 24/100\n",
      "4997/4997 [==============================] - 0s 93us/step - loss: 0.0844 - acc: 0.9636\n",
      "Epoch 25/100\n",
      "4997/4997 [==============================] - 0s 87us/step - loss: 0.0661 - acc: 0.9700\n",
      "Epoch 26/100\n",
      "4997/4997 [==============================] - 1s 103us/step - loss: 0.0999 - acc: 0.9586\n",
      "Epoch 27/100\n",
      "4997/4997 [==============================] - 0s 85us/step - loss: 0.0686 - acc: 0.9738\n",
      "Epoch 28/100\n",
      "4997/4997 [==============================] - 0s 85us/step - loss: 0.0722 - acc: 0.9702\n",
      "Epoch 29/100\n",
      "4997/4997 [==============================] - 0s 86us/step - loss: 0.0815 - acc: 0.9660\n",
      "Epoch 30/100\n",
      "4997/4997 [==============================] - 0s 95us/step - loss: 0.0717 - acc: 0.9696\n",
      "Epoch 31/100\n",
      "4997/4997 [==============================] - 0s 95us/step - loss: 0.0728 - acc: 0.9676\n",
      "Epoch 32/100\n",
      "4997/4997 [==============================] - 0s 90us/step - loss: 0.0830 - acc: 0.9640\n",
      "Epoch 33/100\n",
      "4997/4997 [==============================] - 0s 88us/step - loss: 0.0714 - acc: 0.9688\n",
      "Epoch 34/100\n",
      "4997/4997 [==============================] - 0s 89us/step - loss: 0.0749 - acc: 0.9678\n",
      "Epoch 35/100\n",
      "4997/4997 [==============================] - 0s 89us/step - loss: 0.0872 - acc: 0.9630\n",
      "Epoch 36/100\n",
      "4997/4997 [==============================] - 0s 91us/step - loss: 0.0721 - acc: 0.9738\n",
      "Epoch 37/100\n",
      "4997/4997 [==============================] - 0s 87us/step - loss: 0.0717 - acc: 0.9682\n",
      "Epoch 38/100\n",
      "4997/4997 [==============================] - 0s 96us/step - loss: 0.0932 - acc: 0.9634\n",
      "Epoch 39/100\n",
      "4997/4997 [==============================] - 0s 97us/step - loss: 0.0774 - acc: 0.9682\n",
      "Epoch 40/100\n",
      "4997/4997 [==============================] - 1s 101us/step - loss: 0.0922 - acc: 0.9656\n",
      "Epoch 41/100\n",
      "4997/4997 [==============================] - 0s 88us/step - loss: 0.0691 - acc: 0.9702\n",
      "Epoch 42/100\n",
      "4997/4997 [==============================] - 0s 94us/step - loss: 0.0867 - acc: 0.9646\n",
      "Epoch 43/100\n",
      "4997/4997 [==============================] - 0s 88us/step - loss: 0.0630 - acc: 0.9754\n",
      "Epoch 44/100\n",
      "4997/4997 [==============================] - 0s 99us/step - loss: 0.0672 - acc: 0.9716\n",
      "Epoch 45/100\n",
      "4997/4997 [==============================] - 0s 89us/step - loss: 0.0597 - acc: 0.9744\n",
      "Epoch 46/100\n",
      "4997/4997 [==============================] - 0s 90us/step - loss: 0.0699 - acc: 0.9728\n",
      "Epoch 47/100\n",
      "4997/4997 [==============================] - 0s 88us/step - loss: 0.0746 - acc: 0.9700\n",
      "Epoch 48/100\n",
      "4997/4997 [==============================] - 0s 98us/step - loss: 0.1291 - acc: 0.9544\n",
      "Epoch 49/100\n",
      "4997/4997 [==============================] - 0s 91us/step - loss: 0.0640 - acc: 0.9726\n",
      "Epoch 50/100\n",
      "4997/4997 [==============================] - 0s 90us/step - loss: 0.0787 - acc: 0.9674\n",
      "Epoch 51/100\n",
      "4997/4997 [==============================] - 0s 94us/step - loss: 0.0809 - acc: 0.9698\n",
      "Epoch 52/100\n",
      "4997/4997 [==============================] - 0s 91us/step - loss: 0.0689 - acc: 0.9710\n",
      "Epoch 53/100\n",
      "4997/4997 [==============================] - 0s 91us/step - loss: 0.0759 - acc: 0.9714\n",
      "Epoch 54/100\n",
      "4997/4997 [==============================] - 0s 89us/step - loss: 0.0945 - acc: 0.9654\n",
      "Epoch 55/100\n",
      "4997/4997 [==============================] - 0s 92us/step - loss: 0.0667 - acc: 0.9730\n",
      "Epoch 56/100\n",
      "4997/4997 [==============================] - 0s 87us/step - loss: 0.0766 - acc: 0.9688\n",
      "Epoch 57/100\n",
      "4997/4997 [==============================] - 0s 92us/step - loss: 0.0622 - acc: 0.9742\n",
      "Epoch 58/100\n",
      "4997/4997 [==============================] - 0s 95us/step - loss: 0.0665 - acc: 0.9706\n",
      "Epoch 59/100\n",
      "4997/4997 [==============================] - 0s 91us/step - loss: 0.0805 - acc: 0.9698\n",
      "Epoch 60/100\n",
      "4997/4997 [==============================] - 0s 87us/step - loss: 0.0634 - acc: 0.9728\n",
      "Epoch 61/100\n",
      "4997/4997 [==============================] - 0s 90us/step - loss: 0.0723 - acc: 0.9720\n",
      "Epoch 62/100\n",
      "4997/4997 [==============================] - 0s 90us/step - loss: 0.0803 - acc: 0.9682\n",
      "Epoch 63/100\n",
      "4997/4997 [==============================] - 0s 90us/step - loss: 0.0738 - acc: 0.9724\n",
      "Epoch 64/100\n",
      "4997/4997 [==============================] - 0s 94us/step - loss: 0.0602 - acc: 0.9768\n",
      "Epoch 65/100\n",
      "4997/4997 [==============================] - 0s 90us/step - loss: 0.0700 - acc: 0.9686\n",
      "Epoch 66/100\n",
      "4997/4997 [==============================] - 0s 89us/step - loss: 0.0559 - acc: 0.9762\n",
      "Epoch 67/100\n",
      "4997/4997 [==============================] - 0s 93us/step - loss: 0.0693 - acc: 0.9722\n",
      "Epoch 68/100\n",
      "4997/4997 [==============================] - 0s 87us/step - loss: 0.1027 - acc: 0.9640\n",
      "Epoch 69/100\n",
      "4997/4997 [==============================] - 0s 95us/step - loss: 0.0616 - acc: 0.9762: 0s - loss: 0.0627 - acc:\n",
      "Epoch 70/100\n",
      "4997/4997 [==============================] - 1s 100us/step - loss: 0.0761 - acc: 0.9710\n",
      "Epoch 71/100\n",
      "4997/4997 [==============================] - 0s 99us/step - loss: 0.0896 - acc: 0.9684\n",
      "Epoch 72/100\n",
      "4997/4997 [==============================] - 0s 89us/step - loss: 0.0656 - acc: 0.9736\n",
      "Epoch 73/100\n",
      "4997/4997 [==============================] - 0s 90us/step - loss: 0.0638 - acc: 0.9762\n",
      "Epoch 74/100\n",
      "4997/4997 [==============================] - 0s 92us/step - loss: 0.0687 - acc: 0.9698\n",
      "Epoch 75/100\n",
      "4997/4997 [==============================] - 0s 93us/step - loss: 0.0581 - acc: 0.9756\n",
      "Epoch 76/100\n",
      "4997/4997 [==============================] - 0s 91us/step - loss: 0.0539 - acc: 0.9756\n",
      "Epoch 77/100\n",
      "4997/4997 [==============================] - 0s 89us/step - loss: 0.0502 - acc: 0.9816\n",
      "Epoch 78/100\n",
      "4997/4997 [==============================] - 0s 95us/step - loss: 0.0725 - acc: 0.9706\n",
      "Epoch 79/100\n",
      "4997/4997 [==============================] - 0s 86us/step - loss: 0.0690 - acc: 0.9712\n",
      "Epoch 80/100\n",
      "4997/4997 [==============================] - 0s 90us/step - loss: 0.0573 - acc: 0.9758\n",
      "Epoch 81/100\n",
      "4997/4997 [==============================] - 0s 87us/step - loss: 0.0464 - acc: 0.9786\n",
      "Epoch 82/100\n",
      "4997/4997 [==============================] - 0s 90us/step - loss: 0.0591 - acc: 0.9750\n",
      "Epoch 83/100\n",
      "4997/4997 [==============================] - 0s 91us/step - loss: 0.0704 - acc: 0.9730\n",
      "Epoch 84/100\n",
      "4997/4997 [==============================] - 0s 91us/step - loss: 0.0670 - acc: 0.9728\n",
      "Epoch 85/100\n",
      "4997/4997 [==============================] - 1s 107us/step - loss: 0.0681 - acc: 0.9734\n",
      "Epoch 86/100\n",
      "4997/4997 [==============================] - 0s 96us/step - loss: 0.0602 - acc: 0.9748\n",
      "Epoch 87/100\n",
      "4997/4997 [==============================] - 0s 88us/step - loss: 0.0689 - acc: 0.9736\n",
      "Epoch 88/100\n",
      "4997/4997 [==============================] - 0s 92us/step - loss: 0.0608 - acc: 0.9762\n",
      "Epoch 89/100\n",
      "4997/4997 [==============================] - 0s 90us/step - loss: 0.0627 - acc: 0.9756\n",
      "Epoch 90/100\n",
      "4997/4997 [==============================] - 0s 91us/step - loss: 0.0719 - acc: 0.9714\n",
      "Epoch 91/100\n",
      "4997/4997 [==============================] - 1s 101us/step - loss: 0.0769 - acc: 0.9714\n",
      "Epoch 92/100\n",
      "4997/4997 [==============================] - 0s 88us/step - loss: 0.0555 - acc: 0.9766\n",
      "Epoch 93/100\n",
      "4997/4997 [==============================] - 0s 92us/step - loss: 0.0621 - acc: 0.9730\n",
      "Epoch 94/100\n",
      "4997/4997 [==============================] - 0s 89us/step - loss: 0.0611 - acc: 0.9736\n",
      "Epoch 95/100\n",
      "4997/4997 [==============================] - 0s 94us/step - loss: 0.0823 - acc: 0.9692\n",
      "Epoch 96/100\n",
      "4997/4997 [==============================] - 0s 92us/step - loss: 0.0692 - acc: 0.9724\n",
      "Epoch 97/100\n",
      "4997/4997 [==============================] - 0s 99us/step - loss: 0.0571 - acc: 0.9774\n",
      "Epoch 98/100\n",
      "4997/4997 [==============================] - 0s 97us/step - loss: 0.0612 - acc: 0.9742\n",
      "Epoch 99/100\n",
      "4997/4997 [==============================] - 0s 90us/step - loss: 0.0626 - acc: 0.9758\n",
      "Epoch 100/100\n",
      "4997/4997 [==============================] - 0s 90us/step - loss: 0.0682 - acc: 0.9732\n"
     ]
    }
   ],
   "source": [
    "model_relu_5000, model_relu_5000_hist = analysis_5000.create_model(train_5000_X, train_5000_y, activation = 'relu', epoch_num=100, batch_num=16)"
   ]
  },
  {
   "cell_type": "code",
   "execution_count": 30,
   "metadata": {},
   "outputs": [
    {
     "name": "stdout",
     "output_type": "stream",
     "text": [
      "99.955044955 %\n"
     ]
    }
   ],
   "source": [
    "pred_model_relu_5000 = analysis_5000.predict(model_relu_5000, test_1000_X)\n",
    "accuracy_model_relu_5000 = analysis_5000.get_accuracy(pred_model_relu_5000, test_1000_y)"
   ]
  },
  {
   "cell_type": "markdown",
   "metadata": {},
   "source": [
    "### create_model 4: sigmoid_5000"
   ]
  },
  {
   "cell_type": "code",
   "execution_count": 31,
   "metadata": {},
   "outputs": [
    {
     "name": "stdout",
     "output_type": "stream",
     "text": [
      "Epoch 1/100\n",
      "4997/4997 [==============================] - 1s 164us/step - loss: 1.4033 - acc: 0.5247\n",
      "Epoch 2/100\n",
      "4997/4997 [==============================] - 0s 95us/step - loss: 0.4648 - acc: 0.8587\n",
      "Epoch 3/100\n",
      "4997/4997 [==============================] - 0s 86us/step - loss: 0.2820 - acc: 0.9202\n",
      "Epoch 4/100\n",
      "4997/4997 [==============================] - 0s 88us/step - loss: 0.2083 - acc: 0.9382\n",
      "Epoch 5/100\n",
      "4997/4997 [==============================] - 0s 90us/step - loss: 0.1685 - acc: 0.9488\n",
      "Epoch 6/100\n",
      "4997/4997 [==============================] - 0s 94us/step - loss: 0.1445 - acc: 0.9562\n",
      "Epoch 7/100\n",
      "4997/4997 [==============================] - 0s 87us/step - loss: 0.1293 - acc: 0.9558\n",
      "Epoch 8/100\n",
      "4997/4997 [==============================] - 0s 95us/step - loss: 0.1126 - acc: 0.9630\n",
      "Epoch 9/100\n",
      "4997/4997 [==============================] - 0s 96us/step - loss: 0.1080 - acc: 0.9652\n",
      "Epoch 10/100\n",
      "4997/4997 [==============================] - 1s 106us/step - loss: 0.0974 - acc: 0.9658\n",
      "Epoch 11/100\n",
      "4997/4997 [==============================] - 0s 89us/step - loss: 0.0918 - acc: 0.9674\n",
      "Epoch 12/100\n",
      "4997/4997 [==============================] - 1s 110us/step - loss: 0.0859 - acc: 0.9698\n",
      "Epoch 13/100\n",
      "4997/4997 [==============================] - 0s 99us/step - loss: 0.0866 - acc: 0.9674\n",
      "Epoch 14/100\n",
      "4997/4997 [==============================] - 1s 101us/step - loss: 0.0826 - acc: 0.9672\n",
      "Epoch 15/100\n",
      "4997/4997 [==============================] - 1s 107us/step - loss: 0.0756 - acc: 0.9734\n",
      "Epoch 16/100\n",
      "4997/4997 [==============================] - 0s 92us/step - loss: 0.0750 - acc: 0.9710\n",
      "Epoch 17/100\n",
      "4997/4997 [==============================] - 0s 92us/step - loss: 0.0758 - acc: 0.9708\n",
      "Epoch 18/100\n",
      "4997/4997 [==============================] - 0s 90us/step - loss: 0.0757 - acc: 0.9690\n",
      "Epoch 19/100\n",
      "4997/4997 [==============================] - 0s 91us/step - loss: 0.0663 - acc: 0.9740\n",
      "Epoch 20/100\n",
      "4997/4997 [==============================] - 0s 92us/step - loss: 0.0673 - acc: 0.9764\n",
      "Epoch 21/100\n",
      "4997/4997 [==============================] - 0s 94us/step - loss: 0.0609 - acc: 0.9786\n",
      "Epoch 22/100\n",
      "4997/4997 [==============================] - 0s 96us/step - loss: 0.0657 - acc: 0.9738\n",
      "Epoch 23/100\n",
      "4997/4997 [==============================] - 0s 91us/step - loss: 0.0615 - acc: 0.9760\n",
      "Epoch 24/100\n",
      "4997/4997 [==============================] - 0s 98us/step - loss: 0.0585 - acc: 0.9798\n",
      "Epoch 25/100\n",
      "4997/4997 [==============================] - 0s 92us/step - loss: 0.0620 - acc: 0.9762\n",
      "Epoch 26/100\n",
      "4997/4997 [==============================] - 0s 93us/step - loss: 0.0633 - acc: 0.9736\n",
      "Epoch 27/100\n",
      "4997/4997 [==============================] - 0s 92us/step - loss: 0.0544 - acc: 0.9790\n",
      "Epoch 28/100\n",
      "4997/4997 [==============================] - 0s 94us/step - loss: 0.0611 - acc: 0.9736\n",
      "Epoch 29/100\n",
      "4997/4997 [==============================] - 0s 87us/step - loss: 0.0555 - acc: 0.9766\n",
      "Epoch 30/100\n",
      "4997/4997 [==============================] - 0s 94us/step - loss: 0.0649 - acc: 0.9732\n",
      "Epoch 31/100\n",
      "4997/4997 [==============================] - 0s 98us/step - loss: 0.0587 - acc: 0.9780\n",
      "Epoch 32/100\n",
      "4997/4997 [==============================] - 0s 91us/step - loss: 0.0518 - acc: 0.9778\n",
      "Epoch 33/100\n",
      "4997/4997 [==============================] - 0s 90us/step - loss: 0.0507 - acc: 0.9790\n",
      "Epoch 34/100\n",
      "4997/4997 [==============================] - 0s 100us/step - loss: 0.0647 - acc: 0.9736\n",
      "Epoch 35/100\n",
      "4997/4997 [==============================] - 0s 98us/step - loss: 0.0608 - acc: 0.9752\n",
      "Epoch 36/100\n",
      "4997/4997 [==============================] - 1s 108us/step - loss: 0.0547 - acc: 0.9762\n",
      "Epoch 37/100\n",
      "4997/4997 [==============================] - 0s 94us/step - loss: 0.0519 - acc: 0.9794\n",
      "Epoch 38/100\n",
      "4997/4997 [==============================] - 0s 93us/step - loss: 0.0523 - acc: 0.9808\n",
      "Epoch 39/100\n",
      "4997/4997 [==============================] - 0s 94us/step - loss: 0.0535 - acc: 0.9772\n",
      "Epoch 40/100\n",
      "4997/4997 [==============================] - 0s 91us/step - loss: 0.0575 - acc: 0.9790\n",
      "Epoch 41/100\n",
      "4997/4997 [==============================] - 0s 98us/step - loss: 0.0500 - acc: 0.9792\n",
      "Epoch 42/100\n",
      "4997/4997 [==============================] - 0s 90us/step - loss: 0.0471 - acc: 0.9806\n",
      "Epoch 43/100\n",
      "4997/4997 [==============================] - 0s 97us/step - loss: 0.0534 - acc: 0.9742\n",
      "Epoch 44/100\n",
      "4997/4997 [==============================] - 0s 92us/step - loss: 0.0498 - acc: 0.9804\n",
      "Epoch 45/100\n",
      "4997/4997 [==============================] - 0s 89us/step - loss: 0.0526 - acc: 0.9788\n",
      "Epoch 46/100\n",
      "4997/4997 [==============================] - 0s 94us/step - loss: 0.0487 - acc: 0.9782\n",
      "Epoch 47/100\n",
      "4997/4997 [==============================] - 1s 109us/step - loss: 0.0469 - acc: 0.9800\n",
      "Epoch 48/100\n",
      "4997/4997 [==============================] - 0s 94us/step - loss: 0.0539 - acc: 0.9770\n",
      "Epoch 49/100\n",
      "4997/4997 [==============================] - 0s 94us/step - loss: 0.0457 - acc: 0.9824\n",
      "Epoch 50/100\n",
      "4997/4997 [==============================] - 0s 90us/step - loss: 0.0486 - acc: 0.9798\n",
      "Epoch 51/100\n",
      "4997/4997 [==============================] - 0s 92us/step - loss: 0.0427 - acc: 0.9834\n",
      "Epoch 52/100\n",
      "4997/4997 [==============================] - 1s 100us/step - loss: 0.0508 - acc: 0.9810\n",
      "Epoch 53/100\n",
      "4997/4997 [==============================] - 0s 94us/step - loss: 0.0480 - acc: 0.9794\n",
      "Epoch 54/100\n",
      "4997/4997 [==============================] - 0s 99us/step - loss: 0.0399 - acc: 0.9818\n",
      "Epoch 55/100\n",
      "4997/4997 [==============================] - 0s 91us/step - loss: 0.0481 - acc: 0.9800\n",
      "Epoch 56/100\n",
      "4997/4997 [==============================] - 0s 96us/step - loss: 0.0479 - acc: 0.9806\n",
      "Epoch 57/100\n",
      "4997/4997 [==============================] - 0s 95us/step - loss: 0.0568 - acc: 0.9774\n",
      "Epoch 58/100\n",
      "4997/4997 [==============================] - 0s 92us/step - loss: 0.0531 - acc: 0.9776\n",
      "Epoch 59/100\n",
      "4997/4997 [==============================] - 0s 91us/step - loss: 0.0464 - acc: 0.9820\n",
      "Epoch 60/100\n",
      "4997/4997 [==============================] - 0s 96us/step - loss: 0.0447 - acc: 0.9818\n",
      "Epoch 61/100\n",
      "4997/4997 [==============================] - 0s 99us/step - loss: 0.0500 - acc: 0.9784\n",
      "Epoch 62/100\n",
      "4997/4997 [==============================] - 0s 92us/step - loss: 0.0473 - acc: 0.9800\n",
      "Epoch 63/100\n",
      "4997/4997 [==============================] - 0s 91us/step - loss: 0.0453 - acc: 0.9824\n",
      "Epoch 64/100\n",
      "4997/4997 [==============================] - 0s 91us/step - loss: 0.0441 - acc: 0.9800\n",
      "Epoch 65/100\n",
      "4997/4997 [==============================] - 0s 94us/step - loss: 0.0442 - acc: 0.9810\n",
      "Epoch 66/100\n",
      "4997/4997 [==============================] - 0s 89us/step - loss: 0.0378 - acc: 0.9852\n",
      "Epoch 67/100\n",
      "4997/4997 [==============================] - 0s 99us/step - loss: 0.0441 - acc: 0.9810\n",
      "Epoch 68/100\n",
      "4997/4997 [==============================] - 0s 94us/step - loss: 0.0488 - acc: 0.9790\n",
      "Epoch 69/100\n",
      "4997/4997 [==============================] - 0s 93us/step - loss: 0.0428 - acc: 0.9814\n",
      "Epoch 70/100\n",
      "4997/4997 [==============================] - 0s 96us/step - loss: 0.0411 - acc: 0.9818\n",
      "Epoch 71/100\n",
      "4997/4997 [==============================] - 0s 95us/step - loss: 0.0443 - acc: 0.9828\n",
      "Epoch 72/100\n",
      "4997/4997 [==============================] - 0s 95us/step - loss: 0.0407 - acc: 0.9828\n",
      "Epoch 73/100\n",
      "4997/4997 [==============================] - 1s 105us/step - loss: 0.0425 - acc: 0.9810\n",
      "Epoch 74/100\n",
      "4997/4997 [==============================] - 0s 93us/step - loss: 0.0529 - acc: 0.9798\n",
      "Epoch 75/100\n",
      "4997/4997 [==============================] - 0s 91us/step - loss: 0.0379 - acc: 0.9842\n",
      "Epoch 76/100\n",
      "4997/4997 [==============================] - 0s 91us/step - loss: 0.0445 - acc: 0.9792\n",
      "Epoch 77/100\n",
      "4997/4997 [==============================] - 0s 94us/step - loss: 0.0525 - acc: 0.9784\n",
      "Epoch 78/100\n",
      "4997/4997 [==============================] - 1s 101us/step - loss: 0.0407 - acc: 0.9826\n",
      "Epoch 79/100\n",
      "4997/4997 [==============================] - 0s 95us/step - loss: 0.0389 - acc: 0.9840\n",
      "Epoch 80/100\n",
      "4997/4997 [==============================] - 1s 111us/step - loss: 0.0486 - acc: 0.9790\n",
      "Epoch 81/100\n",
      "4997/4997 [==============================] - 1s 107us/step - loss: 0.0426 - acc: 0.9820\n",
      "Epoch 82/100\n",
      "4997/4997 [==============================] - 1s 155us/step - loss: 0.0418 - acc: 0.9836\n",
      "Epoch 83/100\n",
      "4997/4997 [==============================] - 1s 158us/step - loss: 0.0471 - acc: 0.9800\n",
      "Epoch 84/100\n",
      "4997/4997 [==============================] - 1s 139us/step - loss: 0.0381 - acc: 0.9840\n",
      "Epoch 85/100\n",
      "4997/4997 [==============================] - 1s 138us/step - loss: 0.0483 - acc: 0.9806\n",
      "Epoch 86/100\n",
      "4997/4997 [==============================] - 1s 147us/step - loss: 0.0528 - acc: 0.9772\n",
      "Epoch 87/100\n",
      "4997/4997 [==============================] - 1s 149us/step - loss: 0.0394 - acc: 0.9828\n",
      "Epoch 88/100\n",
      "4997/4997 [==============================] - 1s 134us/step - loss: 0.0381 - acc: 0.9838\n",
      "Epoch 89/100\n",
      "4997/4997 [==============================] - 1s 101us/step - loss: 0.0367 - acc: 0.9852\n",
      "Epoch 90/100\n",
      "4997/4997 [==============================] - 1s 159us/step - loss: 0.0425 - acc: 0.9828\n",
      "Epoch 91/100\n",
      "4997/4997 [==============================] - 1s 130us/step - loss: 0.0434 - acc: 0.9806\n",
      "Epoch 92/100\n",
      "4997/4997 [==============================] - 1s 131us/step - loss: 0.0379 - acc: 0.9856\n",
      "Epoch 93/100\n",
      "4997/4997 [==============================] - 1s 158us/step - loss: 0.0436 - acc: 0.9820\n",
      "Epoch 94/100\n",
      "4997/4997 [==============================] - 1s 123us/step - loss: 0.0394 - acc: 0.9834\n",
      "Epoch 95/100\n",
      "4997/4997 [==============================] - 1s 160us/step - loss: 0.0477 - acc: 0.9792 0s - loss: 0.025\n",
      "Epoch 96/100\n",
      "4997/4997 [==============================] - 1s 153us/step - loss: 0.0418 - acc: 0.9826\n",
      "Epoch 97/100\n",
      "4997/4997 [==============================] - 1s 125us/step - loss: 0.0395 - acc: 0.9832\n",
      "Epoch 98/100\n",
      "4997/4997 [==============================] - 1s 136us/step - loss: 0.0380 - acc: 0.9838\n",
      "Epoch 99/100\n",
      "4997/4997 [==============================] - 1s 108us/step - loss: 0.0444 - acc: 0.9832\n",
      "Epoch 100/100\n",
      "4997/4997 [==============================] - 1s 113us/step - loss: 0.0505 - acc: 0.9802\n"
     ]
    }
   ],
   "source": [
    "model_sigmoid_5000, model_sigmoid_5000_hist = analysis_5000.create_model(train_5000_X, train_5000_y, activation = 'sigmoid', epoch_num=100, batch_num=16)"
   ]
  },
  {
   "cell_type": "code",
   "execution_count": 32,
   "metadata": {},
   "outputs": [
    {
     "name": "stdout",
     "output_type": "stream",
     "text": [
      "99.976023976 %\n"
     ]
    }
   ],
   "source": [
    "pred_model_sigmoid_5000 = analysis_5000.predict(model_sigmoid_5000, test_1000_X)\n",
    "accuracy_model_sigmoid_5000 = analysis_5000.get_accuracy(pred_model_sigmoid_5000, test_1000_y)"
   ]
  },
  {
   "cell_type": "markdown",
   "metadata": {},
   "source": [
    "# Result"
   ]
  },
  {
   "cell_type": "code",
   "execution_count": 33,
   "metadata": {},
   "outputs": [
    {
     "name": "stdout",
     "output_type": "stream",
     "text": [
      "Result of relu_500: 99.9440559441\n",
      "Result of sigmoid_500: 99.979020979\n",
      "Result of relu_5000: 99.955044955\n",
      "Result of sigmoid_5000: 99.976023976\n"
     ]
    }
   ],
   "source": [
    "print('Result of relu_500: {}'.format(accuracy_model_relu_500))\n",
    "print('Result of sigmoid_500: {}'.format(accuracy_model_sigmoid_500))\n",
    "print('Result of relu_5000: {}'.format(accuracy_model_relu_5000))\n",
    "print('Result of sigmoid_5000: {}'.format(accuracy_model_sigmoid_5000))"
   ]
  }
 ],
 "metadata": {
  "kernelspec": {
   "display_name": "Python 3",
   "language": "python",
   "name": "python3"
  },
  "language_info": {
   "codemirror_mode": {
    "name": "ipython",
    "version": 3
   },
   "file_extension": ".py",
   "mimetype": "text/x-python",
   "name": "python",
   "nbconvert_exporter": "python",
   "pygments_lexer": "ipython3",
   "version": "3.6.8"
  }
 },
 "nbformat": 4,
 "nbformat_minor": 4
}
