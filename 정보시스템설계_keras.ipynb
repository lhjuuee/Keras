{
 "cells": [
  {
   "cell_type": "code",
   "execution_count": 16,
   "metadata": {
    "colab": {
     "base_uri": "https://localhost:8080/",
     "height": 98
    },
    "colab_type": "code",
    "executionInfo": {
     "elapsed": 4210,
     "status": "ok",
     "timestamp": 1573095860629,
     "user": {
      "displayName": "한강희",
      "photoUrl": "",
      "userId": "16952383305859271562"
     },
     "user_tz": -540
    },
    "id": "Njw7PHhmLpZy",
    "outputId": "b97dc89d-46c9-4df2-e545-1a8af849969c"
   },
   "outputs": [],
   "source": [
    "import numpy as np\n",
    "import pandas as pd\n",
    "from keras.layers import Dense, Dropout\n",
    "from keras.models import Sequential\n",
    "from sklearn.preprocessing import LabelBinarizer\n",
    "import matplotlib.pyplot as plt\n",
    "import tensorflow as tf\n",
    "%matplotlib inline"
   ]
  },
  {
   "cell_type": "code",
   "execution_count": 32,
   "metadata": {
    "colab": {},
    "colab_type": "code",
    "id": "qdXhy2uHLpZ2"
   },
   "outputs": [],
   "source": [
    "class Analysis():\n",
    "    def __init__(self):\n",
    "        np.random.seed(12341324)\n",
    "        \n",
    "        #데이터 셋 생성\n",
    "    def create_dataset(self, num = 5000):\n",
    "        if num % 2 == 1:\n",
    "            return None\n",
    "        data_len = int(num / 2)\n",
    "        return np.random.random(num).reshape(data_len , 2)\n",
    "        # 데이터 플로팅\n",
    "    def plot_data(self, data):\n",
    "        if len(data.shape) != 2 :\n",
    "            print('데이터를 확인해주세요.')\n",
    "            return\n",
    "        plt.figure(figsize=(7, 7))\n",
    "        plt.plot(data[:, 0], data[:, 1], 'b.')\n",
    "        plt.xlabel('x1')\n",
    "        plt.ylabel('x2')\n",
    "        plt.grid(True)\n",
    "        plt.show()\n",
    "        \n",
    "        # 데이터 분류\n",
    "    def classify_data(self, data):\n",
    "        target = []\n",
    "        \n",
    "        for i in range(len(data)):\n",
    "            if data[i, 0] < 0.5 and data[i, 1] < 0.5:\n",
    "                target.append('type0')\n",
    "            elif data[i, 1] <= data[i, 0] and data[i, 1] > 0.5:\n",
    "                target.append('type1')\n",
    "            elif data[i, 1] <= 0.5 and data[i, 1] > (-(data[i, 0]) + 1):\n",
    "                target.append('type2')\n",
    "            elif data[i, 1] <= (-(data[i, 0]) + 1) and data[i, 0] > 0.5:\n",
    "                target.append('type3')\n",
    "            elif data[i, 0] <= 0.5 and data[i, 1] < data[i, 0]:\n",
    "                target.append('type4')\n",
    "            elif data[i, 1] >= data[i, 0] and data[i, 1] < 0.5:\n",
    "                target.append('type5')\n",
    "            elif data[i, 1] >= 0.5 and data[i, 1] < (-(data[i, 0]) + 1):\n",
    "                target.append('type6')\n",
    "            elif data[i, 1] >= (-(data[i, 0]) + 1) and data[i,0] < 0.5:\n",
    "                target.append('type7')\n",
    "                \n",
    "        return np.array(target)\n",
    "    \n",
    "        # 데이터 인코딩\n",
    "    def encode_data(self, target):\n",
    "        encoder = LabelBinarizer()\n",
    "        target = encoder.fit_transform(target)\n",
    "        return target\n",
    "        \n",
    "        # percent를 이용한 train test 데이터 구분\n",
    "    def get_train_And_test(self, data, percent = 80):\n",
    "        if percent > 100 :\n",
    "            print('파라미터를 확인해주세요')\n",
    "            return \n",
    "        criteria = int((len(data) * percent) / 100)\n",
    "        print('기준 ', criteria)\n",
    "        return (data[0 : criteria], data[criteria : ])\n",
    "    \n",
    "        # 모델 생성\n",
    "    def create_model(self, x_train, t_train, epoch_num = 60, batch_num = 16):\n",
    "        model = Sequential()\n",
    "        model.add(Dense(16, input_dim = 2, activation = 'sigmoid' ))\n",
    "        model.add(Dense(16, activation = 'sigmoid' ))\n",
    "        model.add(Dense(8, activation = 'softmax'))\n",
    "        model.compile(loss = 'categorical_crossentropy', optimizer = 'adam', metrics = ['accuracy'])\n",
    "        hist = model.fit(x_train, t_train, epochs = epoch_num, batch_size = batch_num)\n",
    "        return (model, hist)\n",
    "    \n",
    "        # history 플로팅\n",
    "    def plot_history(self, hist):\n",
    "        plt.figure(figsize = (15, 5))\n",
    "        plt.plot(hist.history['loss'], 'y', label = 'loss')\n",
    "        plt.plot(hist.history['acc'], 'b', label = 'acc')\n",
    "        plt.xlabel('epoch')\n",
    "        plt.legend(loc = 'best')\n",
    "        plt.show()\n",
    "        \n",
    "        # 모델 평가\n",
    "    def evaluate_model(self, model, x_test, t_test):\n",
    "        return model.evaluate(x_test, t_test)"
   ]
  },
  {
   "cell_type": "code",
   "execution_count": 33,
   "metadata": {
    "colab": {},
    "colab_type": "code",
    "id": "CD2rbl2ILpZ4"
   },
   "outputs": [],
   "source": [
    "analysis = Analysis()"
   ]
  },
  {
   "cell_type": "code",
   "execution_count": 34,
   "metadata": {
    "colab": {
     "base_uri": "https://localhost:8080/",
     "height": 105
    },
    "colab_type": "code",
    "executionInfo": {
     "elapsed": 816,
     "status": "ok",
     "timestamp": 1573095926227,
     "user": {
      "displayName": "한강희",
      "photoUrl": "",
      "userId": "16952383305859271562"
     },
     "user_tz": -540
    },
    "id": "pAkqp1vmLpZ6",
    "outputId": "e409126a-b18e-4c4e-eed5-8cd178de6175"
   },
   "outputs": [
    {
     "name": "stdout",
     "output_type": "stream",
     "text": [
      "[[0.53611486 0.33261872]\n",
      " [0.67773492 0.08546784]\n",
      " [0.74827761 0.53073078]\n",
      " [0.81486819 0.48834371]\n",
      " [0.52936037 0.72605929]]\n",
      "(500, 2)\n"
     ]
    }
   ],
   "source": [
    "data = analysis.create_dataset(1000)\n",
    "print(data[0 : 5])\n",
    "print(data.shape)"
   ]
  },
  {
   "cell_type": "code",
   "execution_count": 35,
   "metadata": {
    "colab": {
     "base_uri": "https://localhost:8080/",
     "height": 442
    },
    "colab_type": "code",
    "executionInfo": {
     "elapsed": 905,
     "status": "ok",
     "timestamp": 1573095944764,
     "user": {
      "displayName": "한강희",
      "photoUrl": "",
      "userId": "16952383305859271562"
     },
     "user_tz": -540
    },
    "id": "mn0xWgxGLpZ9",
    "outputId": "e3ae29a3-0e72-4bb1-a85a-17199f7ce9ef"
   },
   "outputs": [
    {
     "data": {
      "image/png": "[encoded data removed]",
      "text/plain": [
       "<Figure size 504x504 with 1 Axes>"
      ]
     },
     "metadata": {
      "needs_background": "light"
     },
     "output_type": "display_data"
    }
   ],
   "source": [
    "analysis.plot_data(data)"
   ]
  },
  {
   "cell_type": "code",
   "execution_count": 36,
   "metadata": {
    "colab": {
     "base_uri": "https://localhost:8080/",
     "height": 122
    },
    "colab_type": "code",
    "executionInfo": {
     "elapsed": 725,
     "status": "ok",
     "timestamp": 1573096122289,
     "user": {
      "displayName": "한강희",
      "photoUrl": "",
      "userId": "16952383305859271562"
     },
     "user_tz": -540
    },
    "id": "xg5y0g-BLpZ_",
    "outputId": "3226f5ff-a5bd-4897-fe7a-a548d20c3c3c"
   },
   "outputs": [
    {
     "name": "stdout",
     "output_type": "stream",
     "text": [
      "['type3' 'type3' 'type1' 'type2' 'type1' 'type0' 'type1' 'type6' 'type0'\n",
      " 'type0' 'type6' 'type0' 'type2' 'type3' 'type3' 'type0' 'type2' 'type1'\n",
      " 'type1' 'type6' 'type0' 'type1' 'type3' 'type0' 'type3' 'type1' 'type3'\n",
      " 'type6' 'type2' 'type1']\n",
      "[[5.36114865e-01 3.32618724e-01]\n",
      " [6.77734923e-01 8.54678352e-02]\n",
      " [7.48277614e-01 5.30730777e-01]\n",
      " [8.14868191e-01 4.88343712e-01]\n",
      " [5.29360367e-01 7.26059288e-01]\n",
      " [6.56636327e-01 5.28120041e-01]\n",
      " [3.18145434e-01 2.61931472e-01]\n",
      " [9.96246026e-01 6.98715346e-01]\n",
      " [1.36769810e-01 7.81572801e-01]\n",
      " [4.29222613e-02 3.40118060e-01]\n",
      " [6.38397998e-05 1.97447386e-01]\n",
      " [3.17142272e-01 5.26380231e-01]\n",
      " [6.45842436e-02 1.11926515e-01]\n",
      " [8.86174923e-01 1.84448692e-01]\n",
      " [5.52627141e-01 1.79208961e-01]\n",
      " [5.15625895e-01 3.17966950e-01]\n",
      " [1.05943529e-01 3.04187464e-02]\n",
      " [7.47256409e-01 3.91862970e-01]\n",
      " [8.28863104e-01 7.81036946e-01]\n",
      " [8.51161840e-01 7.43205672e-01]]\n"
     ]
    }
   ],
   "source": [
    "target = analysis.classify_data(data)\n",
    "print(target[0:30])\n",
    "print(data[0:20])"
   ]
  },
  {
   "cell_type": "code",
   "execution_count": 37,
   "metadata": {
    "colab": {
     "base_uri": "https://localhost:8080/",
     "height": 87
    },
    "colab_type": "code",
    "executionInfo": {
     "elapsed": 733,
     "status": "ok",
     "timestamp": 1573096190164,
     "user": {
      "displayName": "한강희",
      "photoUrl": "",
      "userId": "16952383305859271562"
     },
     "user_tz": -540
    },
    "id": "5t6F-Ith1mR1",
    "outputId": "9ec291c6-7cbb-43ff-e438-d0c5d4e72182"
   },
   "outputs": [
    {
     "name": "stdout",
     "output_type": "stream",
     "text": [
      "126\n",
      "70\n",
      "50\n",
      "75\n",
      "0\n",
      "0\n",
      "62\n",
      "59\n"
     ]
    }
   ],
   "source": [
    "# print(len(target[target=='type0']))\n",
    "# print(len(target[target=='type1']))\n",
    "# print(len(target[target=='type2']))\n",
    "# print(len(target[target=='type3']))\n",
    "for i in range(8):\n",
    "    print(len(target[target=='type' + str(i)]))"
   ]
  },
  {
   "cell_type": "code",
   "execution_count": 31,
   "metadata": {
    "colab": {
     "base_uri": "https://localhost:8080/",
     "height": 193
    },
    "colab_type": "code",
    "executionInfo": {
     "elapsed": 704,
     "status": "ok",
     "timestamp": 1573096348899,
     "user": {
      "displayName": "한강희",
      "photoUrl": "",
      "userId": "16952383305859271562"
     },
     "user_tz": -540
    },
    "id": "xTMZj4ouLpaB",
    "outputId": "fd3cda51-4d22-4ec9-de0b-6cfd23e69f95"
   },
   "outputs": [
    {
     "name": "stdout",
     "output_type": "stream",
     "text": [
      "[[0 0 0 1 0 0]\n",
      " [0 0 0 1 0 0]\n",
      " [0 1 0 0 0 0]\n",
      " [0 0 1 0 0 0]\n",
      " [0 1 0 0 0 0]\n",
      " [1 0 0 0 0 0]\n",
      " [0 1 0 0 0 0]\n",
      " [0 0 0 0 1 0]\n",
      " [1 0 0 0 0 0]\n",
      " [1 0 0 0 0 0]]\n"
     ]
    }
   ],
   "source": [
    "encoded_target = analysis.encode_data(target)\n",
    "print(encoded_target[0:10])"
   ]
  },
  {
   "cell_type": "code",
   "execution_count": 9,
   "metadata": {
    "colab": {
     "base_uri": "https://localhost:8080/",
     "height": 193
    },
    "colab_type": "code",
    "executionInfo": {
     "elapsed": 706,
     "status": "ok",
     "timestamp": 1573096528235,
     "user": {
      "displayName": "한강희",
      "photoUrl": "",
      "userId": "16952383305859271562"
     },
     "user_tz": -540
    },
    "id": "I5hU11HXLpaD",
    "outputId": "f8f0980f-47a3-406c-ed32-8a281bf23d48"
   },
   "outputs": [
    {
     "name": "stdout",
     "output_type": "stream",
     "text": [
      "기준  400\n",
      "[[0.53611486 0.33261872]\n",
      " [0.67773492 0.08546784]\n",
      " [0.74827761 0.53073078]\n",
      " [0.81486819 0.48834371]]\n",
      "기준  400\n",
      "[[0 0 0 1 0 0 0 0]\n",
      " [0 0 0 1 0 0 0 0]\n",
      " [0 1 0 0 0 0 0 0]\n",
      " [0 0 1 0 0 0 0 0]]\n"
     ]
    }
   ],
   "source": [
    "(x_train, x_test) = analysis.get_train_And_test(data, 80)\n",
    "print(x_train[0 : 4])\n",
    "(t_train, t_test) = analysis.get_train_And_test(encoded_target, 80)\n",
    "print(t_train[0 : 4])"
   ]
  },
  {
   "cell_type": "code",
   "execution_count": null,
   "metadata": {
    "colab": {
     "base_uri": "https://localhost:8080/",
     "height": 1000
    },
    "colab_type": "code",
    "executionInfo": {
     "elapsed": 5516,
     "status": "ok",
     "timestamp": 1573097203408,
     "user": {
      "displayName": "한강희",
      "photoUrl": "",
      "userId": "16952383305859271562"
     },
     "user_tz": -540
    },
    "id": "GyKYq2vFLpaF",
    "outputId": "9139e0b0-c349-44e6-c38a-bfd80975a7f9"
   },
   "outputs": [
    {
     "name": "stderr",
     "output_type": "stream",
     "text": [
      "WARNING: Logging before flag parsing goes to stderr.\n",
      "W1117 01:06:26.753325 16348 deprecation_wrapper.py:119] From C:\\Anaconda_\\lib\\site-packages\\keras\\backend\\tensorflow_backend.py:74: The name tf.get_default_graph is deprecated. Please use tf.compat.v1.get_default_graph instead.\n",
      "\n",
      "W1117 01:06:26.830117 16348 deprecation_wrapper.py:119] From C:\\Anaconda_\\lib\\site-packages\\keras\\backend\\tensorflow_backend.py:517: The name tf.placeholder is deprecated. Please use tf.compat.v1.placeholder instead.\n",
      "\n",
      "W1117 01:06:26.848071 16348 deprecation_wrapper.py:119] From C:\\Anaconda_\\lib\\site-packages\\keras\\backend\\tensorflow_backend.py:4138: The name tf.random_uniform is deprecated. Please use tf.random.uniform instead.\n",
      "\n",
      "W1117 01:06:27.050576 16348 deprecation_wrapper.py:119] From C:\\Anaconda_\\lib\\site-packages\\keras\\optimizers.py:790: The name tf.train.Optimizer is deprecated. Please use tf.compat.v1.train.Optimizer instead.\n",
      "\n",
      "W1117 01:06:27.142314 16348 deprecation_wrapper.py:119] From C:\\Anaconda_\\lib\\site-packages\\keras\\backend\\tensorflow_backend.py:3295: The name tf.log is deprecated. Please use tf.math.log instead.\n",
      "\n",
      "W1117 01:06:27.602055 16348 deprecation.py:323] From C:\\Anaconda_\\lib\\site-packages\\tensorflow\\python\\ops\\math_grad.py:1250: add_dispatch_support.<locals>.wrapper (from tensorflow.python.ops.array_ops) is deprecated and will be removed in a future version.\n",
      "Instructions for updating:\n",
      "Use tf.where in 2.0, which has the same broadcast rule as np.where\n",
      "W1117 01:06:27.763624 16348 deprecation_wrapper.py:119] From C:\\Anaconda_\\lib\\site-packages\\keras\\backend\\tensorflow_backend.py:986: The name tf.assign_add is deprecated. Please use tf.compat.v1.assign_add instead.\n",
      "\n"
     ]
    },
    {
     "name": "stdout",
     "output_type": "stream",
     "text": [
      "Epoch 1/100\n",
      "400/400 [==============================] - 1s 2ms/step - loss: 2.1403 - acc: 0.1250\n",
      "Epoch 2/100\n",
      "400/400 [==============================] - 0s 339us/step - loss: 2.0973 - acc: 0.1250\n",
      "Epoch 3/100\n",
      "400/400 [==============================] - 0s 242us/step - loss: 2.0789 - acc: 0.1250\n",
      "Epoch 4/100\n",
      "400/400 [==============================] - 0s 229us/step - loss: 2.0702 - acc: 0.1375\n",
      "Epoch 5/100\n",
      "400/400 [==============================] - 0s 217us/step - loss: 2.0666 - acc: 0.1525\n",
      "Epoch 6/100\n",
      "400/400 [==============================] - 0s 187us/step - loss: 2.0647 - acc: 0.1525\n",
      "Epoch 7/100\n",
      "400/400 [==============================] - 0s 212us/step - loss: 2.0634 - acc: 0.1525\n",
      "Epoch 8/100\n",
      "400/400 [==============================] - 0s 202us/step - loss: 2.0608 - acc: 0.1525\n",
      "Epoch 9/100\n",
      "400/400 [==============================] - 0s 227us/step - loss: 2.0597 - acc: 0.1525\n",
      "Epoch 10/100\n",
      "400/400 [==============================] - 0s 376us/step - loss: 2.0579 - acc: 0.1525\n",
      "Epoch 11/100\n",
      "400/400 [==============================] - 0s 267us/step - loss: 2.0577 - acc: 0.1575\n",
      "Epoch 12/100\n",
      "400/400 [==============================] - 0s 209us/step - loss: 2.0557 - acc: 0.1525\n",
      "Epoch 13/100\n",
      "400/400 [==============================] - 0s 192us/step - loss: 2.0551 - acc: 0.1525\n",
      "Epoch 14/100\n",
      "400/400 [==============================] - 0s 185us/step - loss: 2.0526 - acc: 0.1525\n",
      "Epoch 15/100\n",
      "400/400 [==============================] - 0s 217us/step - loss: 2.0503 - acc: 0.1525\n",
      "Epoch 16/100\n",
      "400/400 [==============================] - 0s 209us/step - loss: 2.0486 - acc: 0.1550\n",
      "Epoch 17/100\n",
      "400/400 [==============================] - 0s 202us/step - loss: 2.0469 - acc: 0.1575\n",
      "Epoch 18/100\n",
      "400/400 [==============================] - ETA: 0s - loss: 2.0486 - acc: 0.190 - 0s 177us/step - loss: 2.0449 - acc: 0.2100\n",
      "Epoch 19/100\n",
      "400/400 [==============================] - 0s 227us/step - loss: 2.0423 - acc: 0.1825\n",
      "Epoch 20/100\n",
      "400/400 [==============================] - 0s 202us/step - loss: 2.0392 - acc: 0.1625\n",
      "Epoch 21/100\n",
      "400/400 [==============================] - 0s 177us/step - loss: 2.0366 - acc: 0.1825\n",
      "Epoch 22/100\n",
      "400/400 [==============================] - 0s 227us/step - loss: 2.0341 - acc: 0.2150\n",
      "Epoch 23/100\n",
      "400/400 [==============================] - 0s 204us/step - loss: 2.0312 - acc: 0.2250\n",
      "Epoch 24/100\n",
      "400/400 [==============================] - 0s 207us/step - loss: 2.0286 - acc: 0.1825\n",
      "Epoch 25/100\n",
      "400/400 [==============================] - 0s 182us/step - loss: 2.0248 - acc: 0.2400\n",
      "Epoch 26/100\n",
      "400/400 [==============================] - 0s 242us/step - loss: 2.0205 - acc: 0.2500\n",
      "Epoch 27/100\n",
      "400/400 [==============================] - 0s 212us/step - loss: 2.0156 - acc: 0.2425\n",
      "Epoch 28/100\n",
      "400/400 [==============================] - 0s 244us/step - loss: 2.0121 - acc: 0.2575\n",
      "Epoch 29/100\n",
      "400/400 [==============================] - 0s 337us/step - loss: 2.0073 - acc: 0.2650\n",
      "Epoch 30/100\n",
      "400/400 [==============================] - 0s 257us/step - loss: 2.0025 - acc: 0.2625\n",
      "Epoch 31/100\n",
      "400/400 [==============================] - 0s 192us/step - loss: 1.9965 - acc: 0.2725\n",
      "Epoch 32/100\n",
      "400/400 [==============================] - 0s 207us/step - loss: 1.9905 - acc: 0.2725\n",
      "Epoch 33/100\n",
      "400/400 [==============================] - ETA: 0s - loss: 1.9881 - acc: 0.285 - 0s 194us/step - loss: 1.9842 - acc: 0.2775\n",
      "Epoch 34/100\n",
      "400/400 [==============================] - 0s 219us/step - loss: 1.9773 - acc: 0.3000\n",
      "Epoch 35/100\n",
      "400/400 [==============================] - 0s 189us/step - loss: 1.9708 - acc: 0.2850\n",
      "Epoch 36/100\n",
      "400/400 [==============================] - 0s 192us/step - loss: 1.9634 - acc: 0.2800\n",
      "Epoch 37/100\n",
      "400/400 [==============================] - 0s 202us/step - loss: 1.9545 - acc: 0.2775\n",
      "Epoch 38/100\n",
      "400/400 [==============================] - 0s 202us/step - loss: 1.9465 - acc: 0.3050\n",
      "Epoch 39/100\n",
      "400/400 [==============================] - 0s 227us/step - loss: 1.9357 - acc: 0.3050\n",
      "Epoch 40/100\n",
      "400/400 [==============================] - 0s 212us/step - loss: 1.9275 - acc: 0.3625 0s - loss: 1.9144 - acc: 0.382\n",
      "Epoch 41/100\n",
      "400/400 [==============================] - 0s 252us/step - loss: 1.9168 - acc: 0.3525\n",
      "Epoch 42/100\n",
      "400/400 [==============================] - 0s 262us/step - loss: 1.9056 - acc: 0.3150\n",
      "Epoch 43/100\n",
      "400/400 [==============================] - 0s 212us/step - loss: 1.8948 - acc: 0.3225\n",
      "Epoch 44/100\n",
      "400/400 [==============================] - 0s 187us/step - loss: 1.8820 - acc: 0.3550\n",
      "Epoch 45/100\n",
      "400/400 [==============================] - 0s 172us/step - loss: 1.8714 - acc: 0.2975\n",
      "Epoch 46/100\n",
      "400/400 [==============================] - 0s 189us/step - loss: 1.8562 - acc: 0.3475\n",
      "Epoch 47/100\n",
      "400/400 [==============================] - 0s 192us/step - loss: 1.8424 - acc: 0.4000\n",
      "Epoch 48/100\n",
      "400/400 [==============================] - 0s 185us/step - loss: 1.8295 - acc: 0.3800\n",
      "Epoch 49/100\n",
      "400/400 [==============================] - 0s 207us/step - loss: 1.8148 - acc: 0.3800\n",
      "Epoch 50/100\n",
      "400/400 [==============================] - 0s 192us/step - loss: 1.8009 - acc: 0.3575\n",
      "Epoch 51/100\n",
      "400/400 [==============================] - ETA: 0s - loss: 1.7964 - acc: 0.339 - 0s 229us/step - loss: 1.7847 - acc: 0.3625\n",
      "Epoch 52/100\n",
      "400/400 [==============================] - 0s 202us/step - loss: 1.7701 - acc: 0.3850\n",
      "Epoch 53/100\n",
      "400/400 [==============================] - 0s 212us/step - loss: 1.7537 - acc: 0.3875\n",
      "Epoch 54/100\n",
      "400/400 [==============================] - 0s 175us/step - loss: 1.7405 - acc: 0.3900\n",
      "Epoch 55/100\n",
      "400/400 [==============================] - 0s 199us/step - loss: 1.7229 - acc: 0.4175\n",
      "Epoch 56/100\n",
      "400/400 [==============================] - 0s 187us/step - loss: 1.7077 - acc: 0.4000\n",
      "Epoch 57/100\n",
      "400/400 [==============================] - 0s 180us/step - loss: 1.6913 - acc: 0.3925\n",
      "Epoch 58/100\n",
      "400/400 [==============================] - 0s 197us/step - loss: 1.6762 - acc: 0.4375\n",
      "Epoch 59/100\n",
      "400/400 [==============================] - 0s 189us/step - loss: 1.6588 - acc: 0.4500\n",
      "Epoch 60/100\n",
      "400/400 [==============================] - 0s 247us/step - loss: 1.6431 - acc: 0.4600\n",
      "Epoch 61/100\n",
      "400/400 [==============================] - 0s 199us/step - loss: 1.6260 - acc: 0.4700\n",
      "Epoch 62/100\n",
      "400/400 [==============================] - 0s 277us/step - loss: 1.6108 - acc: 0.4725\n",
      "Epoch 63/100\n",
      "400/400 [==============================] - 0s 274us/step - loss: 1.5947 - acc: 0.4900\n",
      "Epoch 64/100\n",
      "400/400 [==============================] - 0s 207us/step - loss: 1.5794 - acc: 0.5000\n",
      "Epoch 65/100\n",
      "400/400 [==============================] - 0s 182us/step - loss: 1.5627 - acc: 0.5150\n",
      "Epoch 66/100\n",
      "400/400 [==============================] - 0s 180us/step - loss: 1.5479 - acc: 0.5150\n",
      "Epoch 67/100\n",
      "400/400 [==============================] - 0s 180us/step - loss: 1.5320 - acc: 0.5175\n",
      "Epoch 68/100\n",
      "400/400 [==============================] - 0s 234us/step - loss: 1.5170 - acc: 0.5375\n",
      "Epoch 69/100\n",
      "400/400 [==============================] - 0s 334us/step - loss: 1.5009 - acc: 0.5350\n",
      "Epoch 70/100\n",
      "400/400 [==============================] - 0s 180us/step - loss: 1.4861 - acc: 0.5300\n",
      "Epoch 71/100\n",
      "400/400 [==============================] - 0s 197us/step - loss: 1.4711 - acc: 0.5725\n",
      "Epoch 72/100\n",
      "400/400 [==============================] - 0s 199us/step - loss: 1.4557 - acc: 0.5775\n",
      "Epoch 73/100\n",
      "400/400 [==============================] - 0s 202us/step - loss: 1.4397 - acc: 0.5875\n",
      "Epoch 74/100\n",
      "400/400 [==============================] - 0s 202us/step - loss: 1.4244 - acc: 0.5925\n",
      "Epoch 75/100\n",
      "400/400 [==============================] - 0s 194us/step - loss: 1.4098 - acc: 0.6150\n",
      "Epoch 76/100\n",
      "400/400 [==============================] - 0s 175us/step - loss: 1.3941 - acc: 0.6050\n",
      "Epoch 77/100\n",
      "400/400 [==============================] - 0s 189us/step - loss: 1.3791 - acc: 0.6225\n",
      "Epoch 78/100\n",
      "400/400 [==============================] - 0s 182us/step - loss: 1.3646 - acc: 0.6325\n",
      "Epoch 79/100\n",
      "400/400 [==============================] - 0s 202us/step - loss: 1.3493 - acc: 0.6375\n",
      "Epoch 80/100\n",
      "400/400 [==============================] - 0s 192us/step - loss: 1.3347 - acc: 0.6375\n",
      "Epoch 81/100\n",
      "400/400 [==============================] - 0s 177us/step - loss: 1.3190 - acc: 0.6425\n",
      "Epoch 82/100\n",
      "400/400 [==============================] - 0s 332us/step - loss: 1.3041 - acc: 0.6525\n",
      "Epoch 83/100\n",
      "400/400 [==============================] - 0s 237us/step - loss: 1.2899 - acc: 0.6550\n",
      "Epoch 84/100\n",
      "400/400 [==============================] - 0s 182us/step - loss: 1.2743 - acc: 0.6550\n",
      "Epoch 85/100\n",
      "400/400 [==============================] - 0s 182us/step - loss: 1.2595 - acc: 0.6725\n",
      "Epoch 86/100\n",
      "400/400 [==============================] - 0s 187us/step - loss: 1.2447 - acc: 0.6750\n",
      "Epoch 87/100\n",
      "400/400 [==============================] - 0s 189us/step - loss: 1.2307 - acc: 0.6850\n",
      "Epoch 88/100\n",
      "400/400 [==============================] - 0s 199us/step - loss: 1.2160 - acc: 0.6850\n",
      "Epoch 89/100\n",
      "400/400 [==============================] - 0s 177us/step - loss: 1.2010 - acc: 0.6875\n",
      "Epoch 90/100\n",
      " 16/400 [>.............................] - ETA: 0s - loss: 1.2173 - acc: 0.5625"
     ]
    }
   ],
   "source": [
    "(model, hist) = analysis.create_model(x_train, t_train, 100, 16)"
   ]
  },
  {
   "cell_type": "code",
   "execution_count": 11,
   "metadata": {
    "colab": {},
    "colab_type": "code",
    "id": "X1qusNj3LpaH",
    "outputId": "d54addd3-1c46-49c1-90ec-830edea8b6ae"
   },
   "outputs": [
    {
     "data": {
      "image/png": "[encoded data removed]",
      "text/plain": [
       "<Figure size 1080x360 with 1 Axes>"
      ]
     },
     "metadata": {
      "needs_background": "light"
     },
     "output_type": "display_data"
    }
   ],
   "source": [
    "analysis.plot_history(hist)"
   ]
  },
  {
   "cell_type": "code",
   "execution_count": 12,
   "metadata": {
    "colab": {
     "base_uri": "https://localhost:8080/",
     "height": 52
    },
    "colab_type": "code",
    "executionInfo": {
     "elapsed": 1014,
     "status": "ok",
     "timestamp": 1573097431134,
     "user": {
      "displayName": "한강희",
      "photoUrl": "",
      "userId": "16952383305859271562"
     },
     "user_tz": -540
    },
    "id": "eVu1hP97LpaJ",
    "outputId": "79174cc2-4e39-4b4a-d4d6-24f8d5b1be18"
   },
   "outputs": [
    {
     "name": "stdout",
     "output_type": "stream",
     "text": [
      "100/100 [==============================] - 0s 858us/step\n"
     ]
    },
    {
     "data": {
      "text/plain": [
       "[1.0645342588424682, 0.69]"
      ]
     },
     "execution_count": 12,
     "metadata": {},
     "output_type": "execute_result"
    }
   ],
   "source": [
    "analysis.evaluate_model(model, x_test, t_test)"
   ]
  }
 ],
 "metadata": {
  "colab": {
   "collapsed_sections": [],
   "name": "AnalysisClass.ipynb",
   "provenance": []
  },
  "kernelspec": {
   "display_name": "Python 3",
   "language": "python",
   "name": "python3"
  },
  "language_info": {
   "codemirror_mode": {
    "name": "ipython",
    "version": 3
   },
   "file_extension": ".py",
   "mimetype": "text/x-python",
   "name": "python",
   "nbconvert_exporter": "python",
   "pygments_lexer": "ipython3",
   "version": "3.6.8"
  }
 },
 "nbformat": 4,
 "nbformat_minor": 4
}
