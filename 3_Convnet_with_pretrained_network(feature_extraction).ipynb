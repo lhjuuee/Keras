{
 "cells": [
  {
   "cell_type": "markdown",
   "metadata": {},
   "source": [
    "## Model 3\n",
    "### Data"
   ]
  },
  {
   "cell_type": "code",
   "execution_count": null,
   "metadata": {},
   "outputs": [],
   "source": [
    "import os\n",
    "\n",
    "dir_path = 'C:/python'\n",
    "base_dir = (dir_path + '/dogs-vs-cats_small')\n",
    "train_dir = os.path.join(base_dir, 'train')\n",
    "dev_dir = os.path.join(base_dir,'dev')\n",
    "test_dir = os.path.join(base_dir, 'test')"
   ]
  },
  {
   "cell_type": "markdown",
   "metadata": {},
   "source": [
    "### 4.1 Small dataset with pretrained network\n",
    "\n",
    "I am going to use pretrained network which is the most powerful feature of deep convolutional networks. \n",
    "\n",
    "By using pretrained network, trained by other image dataset, we can handle image tasks with small dataset.\n",
    "\n",
    "One of reason that make this possible is its feature, sharing of parameteres. Learning large image dataset, networks learn\n",
    "\n",
    "how to find out its minor feature of image, like  edge, corner or small pattern. \n",
    "\n",
    "To do the tasks with small dataset, we pretrain networks with ImageNet dataset for VGG networks, which has very simple structure.\n",
    "\n",
    "##### Feature extraction and fine tuning\n",
    "\n",
    "There are two ways to use pretrained networks, featrue extraction and fine tuning. We can simply distinguish \n",
    "\n",
    "them by using conv layers for every training or just using conv layers to get new input.\n",
    "\n",
    "Firstly, let's use feature extraction."
   ]
  },
  {
   "cell_type": "code",
   "execution_count": 2,
   "metadata": {},
   "outputs": [
    {
     "name": "stderr",
     "output_type": "stream",
     "text": [
      "Using TensorFlow backend.\n"
     ]
    }
   ],
   "source": [
    "from keras.applications import VGG16"
   ]
  },
  {
   "cell_type": "code",
   "execution_count": 3,
   "metadata": {},
   "outputs": [],
   "source": [
    "conv_base = VGG16(weights='imagenet',\n",
    "                  include_top=False,\n",
    "                  input_shape=(150, 150, 3))"
   ]
  },
  {
   "cell_type": "code",
   "execution_count": 4,
   "metadata": {},
   "outputs": [
    {
     "name": "stdout",
     "output_type": "stream",
     "text": [
      "_________________________________________________________________\n",
      "Layer (type)                 Output Shape              Param #   \n",
      "=================================================================\n",
      "input_1 (InputLayer)         (None, 150, 150, 3)       0         \n",
      "_________________________________________________________________\n",
      "block1_conv1 (Conv2D)        (None, 150, 150, 64)      1792      \n",
      "_________________________________________________________________\n",
      "block1_conv2 (Conv2D)        (None, 150, 150, 64)      36928     \n",
      "_________________________________________________________________\n",
      "block1_pool (MaxPooling2D)   (None, 75, 75, 64)        0         \n",
      "_________________________________________________________________\n",
      "block2_conv1 (Conv2D)        (None, 75, 75, 128)       73856     \n",
      "_________________________________________________________________\n",
      "block2_conv2 (Conv2D)        (None, 75, 75, 128)       147584    \n",
      "_________________________________________________________________\n",
      "block2_pool (MaxPooling2D)   (None, 37, 37, 128)       0         \n",
      "_________________________________________________________________\n",
      "block3_conv1 (Conv2D)        (None, 37, 37, 256)       295168    \n",
      "_________________________________________________________________\n",
      "block3_conv2 (Conv2D)        (None, 37, 37, 256)       590080    \n",
      "_________________________________________________________________\n",
      "block3_conv3 (Conv2D)        (None, 37, 37, 256)       590080    \n",
      "_________________________________________________________________\n",
      "block3_pool (MaxPooling2D)   (None, 18, 18, 256)       0         \n",
      "_________________________________________________________________\n",
      "block4_conv1 (Conv2D)        (None, 18, 18, 512)       1180160   \n",
      "_________________________________________________________________\n",
      "block4_conv2 (Conv2D)        (None, 18, 18, 512)       2359808   \n",
      "_________________________________________________________________\n",
      "block4_conv3 (Conv2D)        (None, 18, 18, 512)       2359808   \n",
      "_________________________________________________________________\n",
      "block4_pool (MaxPooling2D)   (None, 9, 9, 512)         0         \n",
      "_________________________________________________________________\n",
      "block5_conv1 (Conv2D)        (None, 9, 9, 512)         2359808   \n",
      "_________________________________________________________________\n",
      "block5_conv2 (Conv2D)        (None, 9, 9, 512)         2359808   \n",
      "_________________________________________________________________\n",
      "block5_conv3 (Conv2D)        (None, 9, 9, 512)         2359808   \n",
      "_________________________________________________________________\n",
      "block5_pool (MaxPooling2D)   (None, 4, 4, 512)         0         \n",
      "=================================================================\n",
      "Total params: 14,714,688\n",
      "Trainable params: 14,714,688\n",
      "Non-trainable params: 0\n",
      "_________________________________________________________________\n"
     ]
    }
   ],
   "source": [
    "conv_base.summary()"
   ]
  },
  {
   "cell_type": "markdown",
   "metadata": {},
   "source": [
    "##### Tips for using pretrained networks\n",
    "\n",
    "- First of all, we usually use the conv layers part of preatrained networks. Because only conv layers, not fully connected layers, can share \n",
    "\n",
    "weights and detect feature of image. \n",
    "\n",
    "- And, if the dataset is quite different between for pretrain and new dataset, it is reasonable to only use first part of conv layers for feature extraction.\n",
    "\n",
    "##### In code,\n",
    "\n",
    "- If we don't define 'input shape', it would handle any shape of input data.\n",
    "\n",
    "- include_top determine whether or not to include fully connected layers of VGG16. We will add our own fully connected layers.\n",
    "\n",
    "### 4.2 Feature Extraction\n",
    "\n",
    "In feature extraction tasks, there are two ways to extract feature, \n",
    "\n",
    "##### Method 1 (Quick)\n",
    "1. Feed new data through conv layers for m (number of smaples) times\n",
    "- Save m output as numpy array\n",
    "- Flatten output\n",
    "- Use output as new input for normal and train for few epochs\n",
    "\n",
    "It is computationally cheap because we feed new image data into conv layers only one time. Computation in conv layers is the most\n",
    "\n",
    "expensive part of neural networks. But we can't use data augmentation.\n",
    "\n",
    "##### Method 2 (Slow, not proper for CPU)\n",
    "\n",
    "1. Extend  fully connected layers on the conv layers\n",
    "2. Treat it as a one model\n",
    "3. Feed new data through conv layers\n",
    "\n",
    "We can use data augmentation but it is computationally expensive. Main difference between these two models is that whether we can\n",
    "\n",
    "use data augmentation to avoid high variance problem.\n",
    "\n",
    "#### 4.2.1 Method 1\n",
    "\n",
    "##### Data preprocessing and\n",
    "##### extract feature by feeding data through conv_base"
   ]
  },
  {
   "cell_type": "code",
   "execution_count": 11,
   "metadata": {},
   "outputs": [
    {
     "name": "stdout",
     "output_type": "stream",
     "text": [
      "Found 2000 images belonging to 2 classes.\n",
      "Found 1000 images belonging to 2 classes.\n",
      "Found 1000 images belonging to 2 classes.\n"
     ]
    }
   ],
   "source": [
    "import numpy as np\n",
    "from keras.preprocessing.image import ImageDataGenerator\n",
    "\n",
    "datagen = ImageDataGenerator(rescale=1./255) # We only rescale input, not augmentation.\n",
    "batch_size = 30\n",
    "\n",
    "def extract_features(directory, sample_count):\n",
    "    \n",
    "    # Initialize features and labels to extract\n",
    "    \n",
    "    features = np.zeros(shape=(sample_count, 4, 4, 512)) # Shape of output from conv\n",
    "    labels = np.zeros(shape=(sample_count))\n",
    "    \n",
    "    generator = datagen.flow_from_directory(directory, \n",
    "                                            target_size=(150, 150),\n",
    "                                            batch_size=batch_size,\n",
    "                                            class_mode='binary')\n",
    "    \n",
    "    i = 0\n",
    "    for inputs_batch, labels_batch in generator:\n",
    "        features_batch = conv_base.predict(inputs_batch)\n",
    "        features[i * batch_size : (i + 1) * batch_size] = features_batch\n",
    "        labels[i * batch_size : (i + 1) * batch_size] = labels_batch\n",
    "        i += 1\n",
    "        if i * batch_size >= sample_count:\n",
    "            break # Break after getting all samples feature. We have to make sure to define break. Generator creates data infinitely.\n",
    "            \n",
    "    return features, labels\n",
    "\n",
    "train_features, train_labels = extract_features(train_dir, 2000)\n",
    "dev_features, dev_labels = extract_features(dev_dir, 1000)\n",
    "test_features, test_labels = extract_features(test_dir, 1000)"
   ]
  },
  {
   "cell_type": "markdown",
   "metadata": {},
   "source": [
    "##### Flatten\n",
    "\n",
    "(m, 4, 4, 512) to (m, 4 * 4 * 512)"
   ]
  },
  {
   "cell_type": "code",
   "execution_count": 13,
   "metadata": {},
   "outputs": [],
   "source": [
    "train_features = np.reshape(train_features,(2000, 4 * 4* 512))\n",
    "dev_features = np.reshape(dev_features, (1000, 4 * 4 * 512))\n",
    "test_features = np.reshape(test_features, (1000, 4 * 4 * 512))"
   ]
  },
  {
   "cell_type": "markdown",
   "metadata": {},
   "source": [
    "##### Fully connected layers"
   ]
  },
  {
   "cell_type": "code",
   "execution_count": 15,
   "metadata": {},
   "outputs": [],
   "source": [
    "from keras import models\n",
    "from keras import layers\n",
    "from keras.layers import Dense, Activation, BatchNormalization, Dropout\n",
    "from keras import optimizers\n",
    "\n",
    "model = models.Sequential()\n",
    "\n",
    "model.add(Dense(256, input_dim=4 * 4 * 512))\n",
    "model.add(Activation('relu'))\n",
    "model.add(Dropout(0.5))\n",
    "\n",
    "model.add(Dense(1))\n",
    "model.add(Activation('sigmoid'))"
   ]
  },
  {
   "cell_type": "markdown",
   "metadata": {},
   "source": [
    "##### Compile"
   ]
  },
  {
   "cell_type": "code",
   "execution_count": 18,
   "metadata": {},
   "outputs": [],
   "source": [
    "model.compile(optimizer=optimizers.RMSprop(lr=2e-5),\n",
    "                 loss='binary_crossentropy',\n",
    "                 metrics=['acc'])"
   ]
  },
  {
   "cell_type": "markdown",
   "metadata": {},
   "source": [
    "##### Train"
   ]
  },
  {
   "cell_type": "code",
   "execution_count": 19,
   "metadata": {},
   "outputs": [
    {
     "name": "stdout",
     "output_type": "stream",
     "text": [
      "Train on 2000 samples, validate on 1000 samples\n",
      "Epoch 1/30\n",
      "2000/2000 [==============================] - 7s 3ms/step - loss: 0.6194 - acc: 0.6555 - val_loss: 0.4350 - val_acc: 0.8460\n",
      "Epoch 2/30\n",
      "2000/2000 [==============================] - 6s 3ms/step - loss: 0.4339 - acc: 0.7980 - val_loss: 0.3590 - val_acc: 0.8710\n",
      "Epoch 3/30\n",
      "2000/2000 [==============================] - 6s 3ms/step - loss: 0.3585 - acc: 0.8405 - val_loss: 0.3217 - val_acc: 0.8830\n",
      "Epoch 4/30\n",
      "2000/2000 [==============================] - 6s 3ms/step - loss: 0.3221 - acc: 0.8725 - val_loss: 0.2977 - val_acc: 0.8840\n",
      "Epoch 5/30\n",
      "2000/2000 [==============================] - 6s 3ms/step - loss: 0.2933 - acc: 0.8740 - val_loss: 0.2823 - val_acc: 0.8890\n",
      "Epoch 6/30\n",
      "2000/2000 [==============================] - 6s 3ms/step - loss: 0.2739 - acc: 0.8910 - val_loss: 0.2696 - val_acc: 0.8930\n",
      "Epoch 7/30\n",
      "2000/2000 [==============================] - 6s 3ms/step - loss: 0.2528 - acc: 0.9015 - val_loss: 0.2635 - val_acc: 0.8940\n",
      "Epoch 8/30\n",
      "2000/2000 [==============================] - 6s 3ms/step - loss: 0.2354 - acc: 0.9070 - val_loss: 0.2903 - val_acc: 0.8770\n",
      "Epoch 9/30\n",
      "2000/2000 [==============================] - 6s 3ms/step - loss: 0.2159 - acc: 0.9215 - val_loss: 0.2522 - val_acc: 0.8980\n",
      "Epoch 10/30\n",
      "2000/2000 [==============================] - 6s 3ms/step - loss: 0.2028 - acc: 0.9260 - val_loss: 0.2483 - val_acc: 0.9000\n",
      "Epoch 11/30\n",
      "2000/2000 [==============================] - 6s 3ms/step - loss: 0.1990 - acc: 0.9225 - val_loss: 0.2449 - val_acc: 0.9000\n",
      "Epoch 12/30\n",
      "2000/2000 [==============================] - 6s 3ms/step - loss: 0.1900 - acc: 0.9290 - val_loss: 0.2533 - val_acc: 0.8950\n",
      "Epoch 13/30\n",
      "2000/2000 [==============================] - 6s 3ms/step - loss: 0.1826 - acc: 0.9295 - val_loss: 0.2418 - val_acc: 0.9040\n",
      "Epoch 14/30\n",
      "2000/2000 [==============================] - 6s 3ms/step - loss: 0.1645 - acc: 0.9380 - val_loss: 0.2568 - val_acc: 0.8890\n",
      "Epoch 15/30\n",
      "2000/2000 [==============================] - 6s 3ms/step - loss: 0.1675 - acc: 0.9405 - val_loss: 0.2566 - val_acc: 0.8920\n",
      "Epoch 16/30\n",
      "2000/2000 [==============================] - 6s 3ms/step - loss: 0.1575 - acc: 0.9485 - val_loss: 0.2374 - val_acc: 0.8990\n",
      "Epoch 17/30\n",
      "2000/2000 [==============================] - 6s 3ms/step - loss: 0.1469 - acc: 0.9535 - val_loss: 0.2380 - val_acc: 0.9030\n",
      "Epoch 18/30\n",
      "2000/2000 [==============================] - 6s 3ms/step - loss: 0.1434 - acc: 0.9490 - val_loss: 0.2441 - val_acc: 0.9020\n",
      "Epoch 19/30\n",
      "2000/2000 [==============================] - 6s 3ms/step - loss: 0.1392 - acc: 0.9525 - val_loss: 0.2364 - val_acc: 0.9000\n",
      "Epoch 20/30\n",
      "2000/2000 [==============================] - 6s 3ms/step - loss: 0.1301 - acc: 0.9550 - val_loss: 0.2367 - val_acc: 0.8980\n",
      "Epoch 21/30\n",
      "2000/2000 [==============================] - 7s 3ms/step - loss: 0.1263 - acc: 0.9550 - val_loss: 0.2345 - val_acc: 0.9000\n",
      "Epoch 22/30\n",
      "2000/2000 [==============================] - 7s 3ms/step - loss: 0.1168 - acc: 0.9625 - val_loss: 0.2421 - val_acc: 0.8990\n",
      "Epoch 23/30\n",
      "2000/2000 [==============================] - 6s 3ms/step - loss: 0.1196 - acc: 0.9615 - val_loss: 0.2401 - val_acc: 0.8990\n",
      "Epoch 24/30\n",
      "2000/2000 [==============================] - 6s 3ms/step - loss: 0.1099 - acc: 0.9660 - val_loss: 0.2358 - val_acc: 0.8990\n",
      "Epoch 25/30\n",
      "2000/2000 [==============================] - 5s 3ms/step - loss: 0.1072 - acc: 0.9695 - val_loss: 0.2496 - val_acc: 0.9000\n",
      "Epoch 26/30\n",
      "2000/2000 [==============================] - 6s 3ms/step - loss: 0.1033 - acc: 0.9645 - val_loss: 0.2367 - val_acc: 0.9000\n",
      "Epoch 27/30\n",
      "2000/2000 [==============================] - 5s 3ms/step - loss: 0.1033 - acc: 0.9655 - val_loss: 0.2365 - val_acc: 0.8990\n",
      "Epoch 28/30\n",
      "2000/2000 [==============================] - 5s 3ms/step - loss: 0.0929 - acc: 0.9710 - val_loss: 0.2556 - val_acc: 0.9010\n",
      "Epoch 29/30\n",
      "2000/2000 [==============================] - 6s 3ms/step - loss: 0.0902 - acc: 0.9740 - val_loss: 0.2459 - val_acc: 0.8970\n",
      "Epoch 30/30\n",
      "2000/2000 [==============================] - 5s 3ms/step - loss: 0.0921 - acc: 0.9700 - val_loss: 0.2424 - val_acc: 0.9010\n"
     ]
    }
   ],
   "source": [
    "history = model.fit(train_features, train_labels,\n",
    "                    epochs=30,\n",
    "                    batch_size=20,\n",
    "                    validation_data=(dev_features, dev_labels))"
   ]
  },
  {
   "cell_type": "markdown",
   "metadata": {},
   "source": [
    "##### Evaluate with graph"
   ]
  },
  {
   "cell_type": "code",
   "execution_count": 23,
   "metadata": {},
   "outputs": [
    {
     "data": {
      "image/png": "[encoded data removed]",
      "text/plain": [
       "<Figure size 432x288 with 1 Axes>"
      ]
     },
     "metadata": {},
     "output_type": "display_data"
    },
    {
     "data": {
      "image/png": "[encoded data removed]",
      "text/plain": [
       "<Figure size 432x288 with 1 Axes>"
      ]
     },
     "metadata": {},
     "output_type": "display_data"
    }
   ],
   "source": [
    "import matplotlib.pyplot as plt\n",
    "import seaborn as sns\n",
    "import pandas as pd\n",
    "sns.set(style=\"darkgrid\")\n",
    "\n",
    "acc = history.history['acc']\n",
    "dev_acc = history.history['val_acc']\n",
    "loss = history.history['loss']\n",
    "dev_loss = history.history['val_loss']\n",
    "\n",
    "epochs = (range(1, len(acc) + 1))\n",
    "\n",
    "plt.plot(epochs, acc, 'b', label='Train acc')\n",
    "plt.plot(epochs, dev_acc, 'darkorange', label='Dev acc')\n",
    "plt.xlabel('Accuracy')\n",
    "plt.ylabel('Epoch')\n",
    "plt.title('Training and dev accuracy')\n",
    "plt.legend()\n",
    "\n",
    "plt.figure()\n",
    "\n",
    "plt.plot(epochs, loss, 'b', label='Train loss')\n",
    "plt.plot(epochs, dev_loss, 'darkorange', label='Dev loss')\n",
    "plt.xlabel(\"Epoch\")\n",
    "plt.ylabel(\"Loss\")\n",
    "plt.title(\"Training and dev loss\")\n",
    "plt.legend()\n",
    "\n",
    "plt.show()"
   ]
  },
  {
   "cell_type": "markdown",
   "metadata": {},
   "source": [
    "It shows about 90% accuracy. But We can see that model becomes overfitting after few epochs. It is because we couldn't use\n",
    "\n",
    "data augmentation which is powerful when we have small dataset."
   ]
  }
 ],
 "metadata": {
  "kernelspec": {
   "display_name": "Python 3",
   "language": "python",
   "name": "python3"
  },
  "language_info": {
   "codemirror_mode": {
    "name": "ipython",
    "version": 3
   },
   "file_extension": ".py",
   "mimetype": "text/x-python",
   "name": "python",
   "nbconvert_exporter": "python",
   "pygments_lexer": "ipython3",
   "version": "3.6.8"
  }
 },
 "nbformat": 4,
 "nbformat_minor": 2
}
