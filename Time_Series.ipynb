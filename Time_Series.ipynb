{
 "cells": [
  {
   "cell_type": "markdown",
   "metadata": {},
   "source": [
    "# Time Series \n",
    "\n",
    "In this file, I am going to handle time series data to predict temperature after 24h and show dropout, stacking and bidirectional\n",
    "\n",
    "## 1. Data load"
   ]
  },
  {
   "cell_type": "code",
   "execution_count": 1,
   "metadata": {},
   "outputs": [
    {
     "name": "stdout",
     "output_type": "stream",
     "text": [
      "['\"Date Time\"', '\"p (mbar)\"', '\"T (degC)\"', '\"Tpot (K)\"', '\"Tdew (degC)\"', '\"rh (%)\"', '\"VPmax (mbar)\"', '\"VPact (mbar)\"', '\"VPdef (mbar)\"', '\"sh (g/kg)\"', '\"H2OC (mmol/mol)\"', '\"rho (g/m**3)\"', '\"wv (m/s)\"', '\"max. wv (m/s)\"', '\"wd (deg)\"']\n",
      "420551\n"
     ]
    }
   ],
   "source": [
    "import os\n",
    "\n",
    "data_dir = 'C:/python/'\n",
    "fname = os.path.join(data_dir, 'jena_climate_2009_2016.csv')\n",
    "\n",
    "f = open(fname)\n",
    "data = f.read()\n",
    "f.close()\n",
    "\n",
    "# csv file consists of \\n and comma\n",
    "\n",
    "lines = data.split('\\n')\n",
    "header = lines[0].split(',')\n",
    "lines = lines[1:]\n",
    "\n",
    "print(header)\n",
    "print(len(lines))"
   ]
  },
  {
   "cell_type": "markdown",
   "metadata": {},
   "source": [
    "##### Transform into numpy array"
   ]
  },
  {
   "cell_type": "code",
   "execution_count": null,
   "metadata": {},
   "outputs": [],
   "source": [
    "import numpy as np\n",
    "\n",
    "float_data = np.zeros((len(lines), len(header) - 1)) # Zero (empty) array\n",
    "\n",
    "for i, line in enumerate(lines):\n",
    "    values = [float(x) for x in line.split(',')[1:]]\n",
    "    float_data[i, :] = values"
   ]
  },
  {
   "cell_type": "code",
   "execution_count": null,
   "metadata": {},
   "outputs": [],
   "source": [
    "from matplotlib import pyplot as plt\n",
    "import seaborn as sns\n",
    "sns.set(style=\"darkgrid\")"
   ]
  },
  {
   "cell_type": "markdown",
   "metadata": {},
   "source": [
    "##### Every data"
   ]
  },
  {
   "cell_type": "code",
   "execution_count": 15,
   "metadata": {},
   "outputs": [
    {
     "data": {
      "text/plain": [
       "[<matplotlib.lines.Line2D at 0x1cf58349b00>]"
      ]
     },
     "execution_count": 15,
     "metadata": {},
     "output_type": "execute_result"
    },
    {
     "data": {
      "image/png": "[encoded data removed]",
      "text/plain": [
       "<Figure size 432x288 with 1 Axes>"
      ]
     },
     "metadata": {
      "needs_background": "light"
     },
     "output_type": "display_data"
    }
   ],
   "source": [
    "temp = float_data[:, 1]\n",
    "plt.plot(range(len(temp)), temp)"
   ]
  },
  {
   "cell_type": "markdown",
   "metadata": {},
   "source": [
    "##### 10 days"
   ]
  },
  {
   "cell_type": "markdown",
   "metadata": {},
   "source": [
    "plt.plot(range(1440), temp[:1440])"
   ]
  },
  {
   "cell_type": "markdown",
   "metadata": {},
   "source": [
    "## 2. Preprocess for modeling"
   ]
  },
  {
   "cell_type": "markdown",
   "metadata": {},
   "source": [
    "We go back before 10 days and use 10 days data to predict temperature after 24hours.\n",
    "\n",
    "- lookback = 1440: back to before 10 days\n",
    "- steps = 6: sampling each data point every 1 hours (1 means 10 minutes)\n",
    "- delay = 144: target (after 24 hours)\n",
    "\n",
    "For this, we need function to generate data\n",
    "\n",
    "Before we define function, we need to standardize data.\n",
    "\n",
    "##### Standardize"
   ]
  },
  {
   "cell_type": "code",
   "execution_count": 16,
   "metadata": {},
   "outputs": [],
   "source": [
    "mean = float_data[:200000].mean(axis=0)\n",
    "std = float_data[:200000].std(axis=0)\n",
    "\n",
    "float_data = (float_data - mean) / std"
   ]
  },
  {
   "cell_type": "markdown",
   "metadata": {},
   "source": [
    "##### Data generator"
   ]
  },
  {
   "cell_type": "markdown",
   "metadata": {},
   "source": [
    "To save memory (not loading all data samples), generating each train samples is more efficient.\n",
    "\n",
    "(In training, we randomly pick one data and gather 10 days (240 data points) data to train.)"
   ]
  },
  {
   "cell_type": "code",
   "execution_count": 32,
   "metadata": {},
   "outputs": [],
   "source": [
    "def generator(data, lookback, delay, min_index, max_index, shuffle=False, batch_size=128, step=6):\n",
    "    \n",
    "    if max_index is None:\n",
    "        max_index = len(data) - delay - 1\n",
    "    i = min_index + lookback\n",
    "    \n",
    "    while 1:\n",
    "        if shuffle:\n",
    "            rows = np.random.randint(min_index + lookback, max_index, size=batch_size)\n",
    "        else:\n",
    "            if i + batch_size >= max_index:\n",
    "                i = min_index + lookback\n",
    "            rows = np.arrange(i, min(i + batch_size, max_index))\n",
    "            i += len(rows)\n",
    "            \n",
    "        samples = np.zeros((len(rows),\n",
    "                           lookback // step,\n",
    "                           data.shape[-1]))\n",
    "        targets = np.zeros((len(rows),))\n",
    "        for j, row in enumerate(rows):\n",
    "            indices = range(rows[j] - lookback, rows[j], step)\n",
    "            samples[j] = data[indices]\n",
    "            targets[j] = data[rows[j] + delay][1]\n",
    "        \n",
    "        yield samples, targets"
   ]
  },
  {
   "cell_type": "markdown",
   "metadata": {},
   "source": [
    "##### For training, dev, test"
   ]
  },
  {
   "cell_type": "code",
   "execution_count": 33,
   "metadata": {},
   "outputs": [],
   "source": [
    "lookback = 1440\n",
    "step = 6\n",
    "delay = 144\n",
    "batch_size = 128\n",
    "train_gen = generator(float_data,\n",
    "                      lookback=lookback,\n",
    "                      delay=delay,\n",
    "                      min_index=0,\n",
    "                      max_index=200000,\n",
    "                      shuffle=True,\n",
    "                      step=step,\n",
    "                      batch_size=batch_size)\n",
    "\n",
    "val_gen = generator(float_data,\n",
    "                      lookback=lookback,\n",
    "                      delay=delay,\n",
    "                      min_index=200001,\n",
    "                      max_index=300000,\n",
    "                      shuffle=True,\n",
    "                      step=step,\n",
    "                      batch_size=batch_size)\n",
    "test_gen = generator(float_data,\n",
    "                      lookback=lookback,\n",
    "                      delay=delay,\n",
    "                      min_index=300001,\n",
    "                      max_index=None,\n",
    "                      shuffle=True,\n",
    "                      step=step,\n",
    "                      batch_size=batch_size)\n",
    "\n",
    "val_steps = (300000 - 200001 - lookback) // batch_size\n",
    "\n",
    "test_steps = (len(float_data) - 300001 - lookback) // batch_size"
   ]
  },
  {
   "cell_type": "markdown",
   "metadata": {},
   "source": [
    "## 3. Model\n",
    "\n",
    "In machine learning model, we can measure its performance by comparing to naive method, like 50% accuracy with predicting all tossed\n",
    "\n",
    "coin would be front. In this data, we can predict temperature after 24hours as same as present temperature.\n",
    "\n",
    "#####  Naive method\n",
    "\n"
   ]
  },
  {
   "cell_type": "code",
   "execution_count": 34,
   "metadata": {},
   "outputs": [
    {
     "data": {
      "text/plain": [
       "array([-1.93135845, -1.97541381, -1.98671006, ..., -1.38236094,\n",
       "       -1.50323076, -1.56987861])"
      ]
     },
     "execution_count": 34,
     "metadata": {},
     "output_type": "execute_result"
    }
   ],
   "source": [
    "float_data[:, 1]"
   ]
  },
  {
   "cell_type": "code",
   "execution_count": 37,
   "metadata": {},
   "outputs": [
    {
     "name": "stdout",
     "output_type": "stream",
     "text": [
      "0.2908773835565898\n"
     ]
    }
   ],
   "source": [
    "def evaluate_naive_method():\n",
    "    batch_maes =[]\n",
    "    for step in range(val_steps):\n",
    "        samples, targets = next(val_gen)\n",
    "        preds = samples[:, -1, 1]\n",
    "        mae = np.mean(np.abs(preds - targets))\n",
    "        batch_maes.append(mae)\n",
    "    print(np.mean(batch_maes))\n",
    "    \n",
    "evaluate_naive_method()"
   ]
  },
  {
   "cell_type": "markdown",
   "metadata": {},
   "source": [
    "This is value that deeplearning or more complex model have to exceed.\n",
    "\n",
    "##### GRU"
   ]
  },
  {
   "cell_type": "code",
   "execution_count": 41,
   "metadata": {},
   "outputs": [
    {
     "name": "stdout",
     "output_type": "stream",
     "text": [
      "Epoch 1/20\n",
      "500/500 [==============================] - 128s 255ms/step - loss: 0.3053 - val_loss: 0.2753\n",
      "Epoch 2/20\n",
      "500/500 [==============================] - 125s 250ms/step - loss: 0.2843 - val_loss: 0.2678\n",
      "Epoch 3/20\n",
      "500/500 [==============================] - 126s 252ms/step - loss: 0.2786 - val_loss: 0.2629\n",
      "Epoch 4/20\n",
      "500/500 [==============================] - 124s 248ms/step - loss: 0.2742 - val_loss: 0.2662\n",
      "Epoch 5/20\n",
      "500/500 [==============================] - 128s 255ms/step - loss: 0.2690 - val_loss: 0.2688\n",
      "Epoch 6/20\n",
      "500/500 [==============================] - 139s 278ms/step - loss: 0.2633 - val_loss: 0.2626\n",
      "Epoch 7/20\n",
      "500/500 [==============================] - 131s 261ms/step - loss: 0.2579 - val_loss: 0.2637\n",
      "Epoch 8/20\n",
      "500/500 [==============================] - 132s 264ms/step - loss: 0.2532 - val_loss: 0.2656\n",
      "Epoch 9/20\n",
      "500/500 [==============================] - 145s 291ms/step - loss: 0.2493 - val_loss: 0.2696\n",
      "Epoch 10/20\n",
      "500/500 [==============================] - 135s 270ms/step - loss: 0.2452 - val_loss: 0.2739\n",
      "Epoch 11/20\n",
      "500/500 [==============================] - 126s 252ms/step - loss: 0.2410 - val_loss: 0.2790\n",
      "Epoch 12/20\n",
      "500/500 [==============================] - 139s 279ms/step - loss: 0.2363 - val_loss: 0.2758\n",
      "Epoch 13/20\n",
      "500/500 [==============================] - 131s 263ms/step - loss: 0.2326 - val_loss: 0.2895\n",
      "Epoch 14/20\n",
      "500/500 [==============================] - 104s 209ms/step - loss: 0.2296 - val_loss: 0.2952\n",
      "Epoch 15/20\n",
      "500/500 [==============================] - 90s 181ms/step - loss: 0.2272 - val_loss: 0.2855\n",
      "Epoch 16/20\n",
      "500/500 [==============================] - 90s 180ms/step - loss: 0.2243 - val_loss: 0.2909\n",
      "Epoch 17/20\n",
      "500/500 [==============================] - 90s 181ms/step - loss: 0.2211 - val_loss: 0.2947\n",
      "Epoch 18/20\n",
      "500/500 [==============================] - 91s 182ms/step - loss: 0.2174 - val_loss: 0.2975\n",
      "Epoch 19/20\n",
      "500/500 [==============================] - 92s 184ms/step - loss: 0.2153 - val_loss: 0.2995\n",
      "Epoch 20/20\n",
      "500/500 [==============================] - 106s 212ms/step - loss: 0.2112 - val_loss: 0.3042\n"
     ]
    }
   ],
   "source": [
    "from keras import models\n",
    "from keras import layers\n",
    "from keras import optimizers\n",
    "\n",
    "model = models.Sequential()\n",
    "model.add(layers.GRU(32, input_shape=(None, float_data.shape[-1])))\n",
    "model.add(layers.Dense(1))\n",
    "\n",
    "model.compile(optimizer = optimizers.RMSprop(), loss = 'mae')\n",
    "\n",
    "history = model.fit_generator(train_gen,\n",
    "                              steps_per_epoch=500,\n",
    "                              epochs=20,\n",
    "                              validation_data=val_gen,\n",
    "                              validation_steps=val_steps)"
   ]
  },
  {
   "cell_type": "code",
   "execution_count": 42,
   "metadata": {},
   "outputs": [
    {
     "data": {
      "image/png": "[encoded data removed]",
      "text/plain": [
       "<Figure size 432x288 with 1 Axes>"
      ]
     },
     "metadata": {
      "needs_background": "light"
     },
     "output_type": "display_data"
    }
   ],
   "source": [
    "loss = history.history['loss']\n",
    "val_loss = history.history['val_loss']\n",
    "epochs = range(1, len(loss) + 1)\n",
    "\n",
    "plt.figure()\n",
    "plt.plot(epochs, loss, label='loss')\n",
    "plt.plot(epochs, val_loss, label='val loss')\n",
    "plt.title('Loss')\n",
    "\n",
    "plt.legend()\n",
    "plt.show()"
   ]
  },
  {
   "cell_type": "markdown",
   "metadata": {},
   "source": [
    "We get much better model to predict temperature. But it shows overfitting after few epochs.\n",
    "\n",
    "Then, we need to find more stable model by regularizing and increase networks after that.\n",
    "\n",
    "##### Dropout to regularize\n",
    "\n",
    "There are two kinds of dropout in recurrent neural networks. Dropout for input and dropout in recurrent state.\n",
    "\n",
    "We can assign probability of deactivating neuron with dropout and recurrnet_dropout parameter.\n",
    "\n",
    "After get more stable model, it is quite reasonable to stack rnn layers to increase network size. \n",
    "\n",
    "But I'll skip those process in this notebooks."
   ]
  },
  {
   "cell_type": "code",
   "execution_count": null,
   "metadata": {},
   "outputs": [],
   "source": [
    "'''\n",
    "model = models.Sequential()\n",
    "model.add(layers.GRU(32, \n",
    "                     dropout=0.2,\n",
    "                     recurrent_dropout=0.2,\n",
    "                     input_shape=(None, float_data.shape[-1])))\n",
    "model.add(layers.Dense(1))\n",
    "\n",
    "model.compile(optimizer = optimizers.RMSprop(), loss='mae')\n",
    "history = model.fit_generator(train_gen,\n",
    "                              steps_per_epoch=500,\n",
    "                              epochs=40,\n",
    "                              validation_data=val_gen,\n",
    "                              validation_steps=val_steps)\n",
    "                              '''\n",
    "\n"
   ]
  }
 ],
 "metadata": {
  "kernelspec": {
   "display_name": "Python 3",
   "language": "python",
   "name": "python3"
  },
  "language_info": {
   "codemirror_mode": {
    "name": "ipython",
    "version": 3
   },
   "file_extension": ".py",
   "mimetype": "text/x-python",
   "name": "python",
   "nbconvert_exporter": "python",
   "pygments_lexer": "ipython3",
   "version": "3.6.8"
  }
 },
 "nbformat": 4,
 "nbformat_minor": 2
}
